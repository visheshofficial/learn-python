{
 "cells": [
  {
   "cell_type": "markdown",
   "metadata": {},
   "source": [
    "### Installing pytest with pip\n"
   ]
  },
  {
   "cell_type": "code",
   "execution_count": 11,
   "metadata": {},
   "outputs": [
    {
     "name": "stdout",
     "output_type": "stream",
     "text": [
      "Requirement already satisfied: pip in /Users/bhagatv/work/repository/visheshofficial/learn-python/.venv/lib/python3.12/site-packages (24.0)\n"
     ]
    }
   ],
   "source": [
    "! python -m pip install --upgrade pip"
   ]
  },
  {
   "cell_type": "code",
   "execution_count": 12,
   "metadata": {},
   "outputs": [
    {
     "name": "stdout",
     "output_type": "stream",
     "text": [
      "Requirement already satisfied: pytest in /Users/bhagatv/work/repository/visheshofficial/learn-python/.venv/lib/python3.12/site-packages (8.1.1)\n",
      "Requirement already satisfied: iniconfig in /Users/bhagatv/work/repository/visheshofficial/learn-python/.venv/lib/python3.12/site-packages (from pytest) (2.0.0)\n",
      "Requirement already satisfied: packaging in /Users/bhagatv/work/repository/visheshofficial/learn-python/.venv/lib/python3.12/site-packages (from pytest) (24.0)\n",
      "Requirement already satisfied: pluggy<2.0,>=1.4 in /Users/bhagatv/work/repository/visheshofficial/learn-python/.venv/lib/python3.12/site-packages (from pytest) (1.4.0)\n"
     ]
    }
   ],
   "source": [
    "! python -m pip install  pytest "
   ]
  },
  {
   "cell_type": "code",
   "execution_count": 15,
   "metadata": {},
   "outputs": [
    {
     "data": {
      "text/plain": [
       "'Janis Joplin'"
      ]
     },
     "execution_count": 15,
     "metadata": {},
     "output_type": "execute_result"
    }
   ],
   "source": [
    "from name_function import get_formatted_name\n",
    "get_formatted_name('janis', 'joplin')\n"
   ]
  },
  {
   "cell_type": "code",
   "execution_count": 16,
   "metadata": {},
   "outputs": [
    {
     "name": "stdout",
     "output_type": "stream",
     "text": [
      "Lets format many names. Enter 'q' to quit\n",
      "\tNeatly formatted name: Vis Wed.\n",
      "\tNeatly formatted name: We Qwq.\n",
      "\tNeatly formatted name: Scsf Erf.\n"
     ]
    }
   ],
   "source": [
    "print(\"Lets format many names. Enter 'q' to quit\")\n",
    "while True:\n",
    "    first = input(\"Enter first name: \")\n",
    "    if first == 'q':\n",
    "        break\n",
    "    last = input(\"Enter last name: \")\n",
    "    if last == 'q':\n",
    "        break\n",
    "    formatted_name = get_formatted_name(first, last)\n",
    "    print(f\"\\tNeatly formatted name: {formatted_name}.\")\n",
    "    "
   ]
  },
  {
   "cell_type": "markdown",
   "metadata": {},
   "source": [
    "### Unit Tests and Test Cases\n",
    "\n",
    "#### A Passing Test\n"
   ]
  },
  {
   "cell_type": "markdown",
   "metadata": {},
   "source": [
    "- the name of a test file is important; it must start with test\\_\n"
   ]
  },
  {
   "cell_type": "code",
   "execution_count": 21,
   "metadata": {},
   "outputs": [
    {
     "name": "stdout",
     "output_type": "stream",
     "text": [
      "\u001b[1m============================= test session starts ==============================\u001b[0m\n",
      "platform darwin -- Python 3.12.2, pytest-8.1.1, pluggy-1.4.0\n",
      "rootdir: /Users/bhagatv/work/repository/visheshofficial/learn-python/python-crash-course\n",
      "plugins: anyio-4.3.0\n",
      "collected 1 item                                                               \u001b[0m\n",
      "\n",
      "test_name_function.py \u001b[32m.\u001b[0m\u001b[32m                                                  [100%]\u001b[0m\n",
      "\n",
      "\u001b[32m============================== \u001b[32m\u001b[1m1 passed\u001b[0m\u001b[32m in 0.15s\u001b[0m\u001b[32m ===============================\u001b[0m\n"
     ]
    }
   ],
   "source": [
    "! pytest test_name_function.py"
   ]
  },
  {
   "cell_type": "markdown",
   "metadata": {},
   "source": [
    "### A Failing Test\n"
   ]
  },
  {
   "cell_type": "code",
   "execution_count": 22,
   "metadata": {},
   "outputs": [
    {
     "name": "stdout",
     "output_type": "stream",
     "text": [
      "\u001b[1m============================= test session starts ==============================\u001b[0m\n",
      "platform darwin -- Python 3.12.2, pytest-8.1.1, pluggy-1.4.0\n",
      "rootdir: /Users/bhagatv/work/repository/visheshofficial/learn-python/python-crash-course\n",
      "plugins: anyio-4.3.0\n",
      "collected 1 item                                                               \u001b[0m\n",
      "\n",
      "test_name_function_fail.py \u001b[31mF\u001b[0m\u001b[31m                                             [100%]\u001b[0m\n",
      "\n",
      "=================================== FAILURES ===================================\n",
      "\u001b[31m\u001b[1m_____________________________ test_first_last_name _____________________________\u001b[0m\n",
      "\n",
      "    \u001b[0m\u001b[94mdef\u001b[39;49;00m \u001b[92mtest_first_last_name\u001b[39;49;00m():\u001b[90m\u001b[39;49;00m\n",
      "        formatted_name = get_formatted_name(\u001b[33m'\u001b[39;49;00m\u001b[33mjanis\u001b[39;49;00m\u001b[33m'\u001b[39;49;00m, \u001b[33m'\u001b[39;49;00m\u001b[33mjoplin\u001b[39;49;00m\u001b[33m'\u001b[39;49;00m)\u001b[90m\u001b[39;49;00m\n",
      ">       \u001b[94massert\u001b[39;49;00m formatted_name == \u001b[33m'\u001b[39;49;00m\u001b[33mJanis Jop lin\u001b[39;49;00m\u001b[33m'\u001b[39;49;00m\u001b[90m\u001b[39;49;00m\n",
      "\u001b[1m\u001b[31mE       AssertionError: assert 'Janis Joplin' == 'Janis Jop lin'\u001b[0m\n",
      "\u001b[1m\u001b[31mE         \u001b[0m\n",
      "\u001b[1m\u001b[31mE         - Janis Jop lin\u001b[0m\n",
      "\u001b[1m\u001b[31mE         ?          -\u001b[0m\n",
      "\u001b[1m\u001b[31mE         + Janis Joplin\u001b[0m\n",
      "\n",
      "\u001b[1m\u001b[31mtest_name_function_fail.py\u001b[0m:5: AssertionError\n",
      "\u001b[36m\u001b[1m=========================== short test summary info ============================\u001b[0m\n",
      "\u001b[31mFAILED\u001b[0m test_name_function_fail.py::\u001b[1mtest_first_last_name\u001b[0m - AssertionError: assert 'Janis Joplin' == 'Janis Jop lin'\n",
      "\u001b[31m============================== \u001b[31m\u001b[1m1 failed\u001b[0m\u001b[31m in 0.08s\u001b[0m\u001b[31m ===============================\u001b[0m\n"
     ]
    }
   ],
   "source": [
    "! pytest test_name_function_fail.py"
   ]
  },
  {
   "cell_type": "markdown",
   "metadata": {},
   "source": [
    "### Testing a Class\n"
   ]
  },
  {
   "cell_type": "code",
   "execution_count": 1,
   "metadata": {},
   "outputs": [
    {
     "name": "stdout",
     "output_type": "stream",
     "text": [
      "What language did you first learn to speak?\n",
      "Enter 'q' at any time to quit.\n",
      "\n",
      "\n",
      "Thank you to everyone who participated in the survey!\n",
      "Survey results:\n",
      "- marathi\n"
     ]
    }
   ],
   "source": [
    "# A Class to Test\n",
    "from survey import AnonymousSurvey\n",
    "\n",
    "# Define a question, and make a survey.\n",
    "question = \"What language did you first learn to speak?\"\n",
    "language_survey = AnonymousSurvey(question)\n",
    "\n",
    "# Show the question, and store responses to the question.\n",
    "language_survey.show_question()\n",
    "print(\"Enter 'q' at any time to quit.\\n\")\n",
    "while True:\n",
    "    response = input(\"Language: \")\n",
    "    if response == 'q':\n",
    "        break\n",
    "    language_survey.store_response(response)\n",
    "\n",
    "# Show the survey results.\n",
    "print(\"\\nThank you to everyone who participated in the survey!\")\n",
    "language_survey.show_results()"
   ]
  },
  {
   "cell_type": "code",
   "execution_count": 3,
   "metadata": {},
   "outputs": [
    {
     "name": "stdout",
     "output_type": "stream",
     "text": [
      "\u001b[1m============================= test session starts ==============================\u001b[0m\n",
      "platform darwin -- Python 3.12.2, pytest-8.1.1, pluggy-1.4.0\n",
      "rootdir: /Users/bhagatv/work/repository/visheshofficial/learn-python/python-crash-course\n",
      "plugins: anyio-4.3.0\n",
      "collected 1 item                                                               \u001b[0m\n",
      "\n",
      "test_survey.py \u001b[32m.\u001b[0m\u001b[32m                                                         [100%]\u001b[0m\n",
      "\n",
      "\u001b[32m============================== \u001b[32m\u001b[1m1 passed\u001b[0m\u001b[32m in 0.02s\u001b[0m\u001b[32m ===============================\u001b[0m\n"
     ]
    }
   ],
   "source": [
    "! pytest test_survey.py"
   ]
  }
 ],
 "metadata": {
  "kernelspec": {
   "display_name": ".venv",
   "language": "python",
   "name": "python3"
  },
  "language_info": {
   "codemirror_mode": {
    "name": "ipython",
    "version": 3
   },
   "file_extension": ".py",
   "mimetype": "text/x-python",
   "name": "python",
   "nbconvert_exporter": "python",
   "pygments_lexer": "ipython3",
   "version": "3.12.2"
  }
 },
 "nbformat": 4,
 "nbformat_minor": 2
}
