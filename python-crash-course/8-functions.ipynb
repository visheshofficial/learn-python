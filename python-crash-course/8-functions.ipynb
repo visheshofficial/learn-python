{
 "cells": [
  {
   "cell_type": "markdown",
   "metadata": {},
   "source": [
    "# Functions\n",
    "\n",
    "A named block of code designed to do one specific job\n"
   ]
  },
  {
   "cell_type": "code",
   "execution_count": 3,
   "metadata": {},
   "outputs": [
    {
     "name": "stdout",
     "output_type": "stream",
     "text": [
      "hello there!\n"
     ]
    }
   ],
   "source": [
    "def greet():\n",
    "    \"\"\" Displaying simple greet \"\"\"\n",
    "    print(\"hello there!\")\n",
    "\n",
    "greet()"
   ]
  },
  {
   "cell_type": "markdown",
   "metadata": {},
   "source": [
    "abobe function has name, docstring and body\n"
   ]
  },
  {
   "cell_type": "markdown",
   "metadata": {},
   "source": [
    "### Passing inputs to a function\n"
   ]
  },
  {
   "cell_type": "code",
   "execution_count": 4,
   "metadata": {},
   "outputs": [
    {
     "name": "stdout",
     "output_type": "stream",
     "text": [
      "Hello Alice!\n"
     ]
    }
   ],
   "source": [
    "def greet_user(username):\n",
    "    print(f\"Hello {username.title()}!\")\n",
    "\n",
    "greet_user(\"Alice\")"
   ]
  },
  {
   "cell_type": "markdown",
   "metadata": {},
   "source": [
    "here username is the parameter to the function\n",
    "\"Alice\" is the argument passed.\n"
   ]
  },
  {
   "cell_type": "markdown",
   "metadata": {},
   "source": [
    "### Positional Arguments\n"
   ]
  },
  {
   "cell_type": "code",
   "execution_count": 1,
   "metadata": {},
   "outputs": [],
   "source": [
    "def describe_pet(animal_type,pet_name):\n",
    "    \"\"\"Displaying information about the pet\"\"\"\n",
    "    print(f\"I have a {animal_type} and my {animal_type}'s name is {pet_name}\")\n",
    "\n",
    "    "
   ]
  },
  {
   "cell_type": "code",
   "execution_count": 2,
   "metadata": {},
   "outputs": [
    {
     "name": "stdout",
     "output_type": "stream",
     "text": [
      "I have a dog and my dog's name is coco\n"
     ]
    }
   ],
   "source": [
    "describe_pet('dog','coco')"
   ]
  },
  {
   "cell_type": "code",
   "execution_count": 4,
   "metadata": {},
   "outputs": [
    {
     "name": "stdout",
     "output_type": "stream",
     "text": [
      "I have a coco and my coco's name is dog\n"
     ]
    }
   ],
   "source": [
    "# Order Matters in Positional Arguments\n",
    "\n",
    "describe_pet('coco','dog')"
   ]
  },
  {
   "cell_type": "markdown",
   "metadata": {},
   "source": [
    "### Keyword arguments\n"
   ]
  },
  {
   "cell_type": "code",
   "execution_count": 5,
   "metadata": {},
   "outputs": [
    {
     "name": "stdout",
     "output_type": "stream",
     "text": [
      "I have a hamster and my hamster's name is harry\n"
     ]
    }
   ],
   "source": [
    "describe_pet(animal_type='hamster', pet_name='harry')\n"
   ]
  },
  {
   "cell_type": "code",
   "execution_count": 6,
   "metadata": {},
   "outputs": [
    {
     "name": "stdout",
     "output_type": "stream",
     "text": [
      "I have a hamster and my hamster's name is harry\n"
     ]
    }
   ],
   "source": [
    "# The order of keyword arguments doesn’t matter\n",
    "describe_pet(pet_name='harry',animal_type='hamster')\n"
   ]
  },
  {
   "cell_type": "markdown",
   "metadata": {},
   "source": [
    "### Default values\n"
   ]
  },
  {
   "cell_type": "markdown",
   "metadata": {},
   "source": [
    "When you use default values, any parameter with a default value needs to be listed after all the parameters that don’t have default values. This allows Python to continue interpreting positional arguments correctly.\n"
   ]
  },
  {
   "cell_type": "code",
   "execution_count": 7,
   "metadata": {},
   "outputs": [],
   "source": [
    "def describe_pet(pet_name,animal_type='dog'):\n",
    "    \"\"\"Displaying information about the pet\"\"\"\n",
    "    print(f\"I have a {animal_type} and my {animal_type}'s name is {pet_name}\")\n"
   ]
  },
  {
   "cell_type": "code",
   "execution_count": 8,
   "metadata": {},
   "outputs": [
    {
     "name": "stdout",
     "output_type": "stream",
     "text": [
      "I have a dog and my dog's name is coco\n"
     ]
    }
   ],
   "source": [
    "describe_pet('coco')"
   ]
  },
  {
   "cell_type": "code",
   "execution_count": 9,
   "metadata": {},
   "outputs": [
    {
     "name": "stdout",
     "output_type": "stream",
     "text": [
      "I have a cat and my cat's name is Leo\n"
     ]
    }
   ],
   "source": [
    "describe_pet('Leo','cat')"
   ]
  },
  {
   "cell_type": "code",
   "execution_count": 10,
   "metadata": {},
   "outputs": [
    {
     "name": "stdout",
     "output_type": "stream",
     "text": [
      "I have a cat and my cat's name is Leo\n"
     ]
    }
   ],
   "source": [
    "describe_pet(pet_name='Leo',animal_type='cat')"
   ]
  },
  {
   "cell_type": "code",
   "execution_count": 11,
   "metadata": {},
   "outputs": [
    {
     "name": "stdout",
     "output_type": "stream",
     "text": [
      "I have a cat and my cat's name is Leo\n"
     ]
    }
   ],
   "source": [
    "describe_pet(animal_type='cat',pet_name='Leo')"
   ]
  },
  {
   "cell_type": "markdown",
   "metadata": {},
   "source": [
    "## Return values\n"
   ]
  },
  {
   "cell_type": "code",
   "execution_count": 12,
   "metadata": {},
   "outputs": [],
   "source": [
    "# Returning a simple value\n",
    "def get_formatted_name(first_name,last_name):\n",
    "    \"\"\" Returning a formatted name\"\"\"\n",
    "    full_name = f\"{first_name.title()} {last_name.title()}\"\n",
    "    return full_name"
   ]
  },
  {
   "cell_type": "code",
   "execution_count": 13,
   "metadata": {},
   "outputs": [
    {
     "data": {
      "text/plain": [
       "'Barack Obama'"
      ]
     },
     "execution_count": 13,
     "metadata": {},
     "output_type": "execute_result"
    }
   ],
   "source": [
    "get_formatted_name(\"barack\",\"obama\")"
   ]
  },
  {
   "cell_type": "code",
   "execution_count": 14,
   "metadata": {},
   "outputs": [],
   "source": [
    "# Making an Argument Optional\n",
    "def get_formatted_name(first_name,last_name,middle_name=\"\"):\n",
    "    \"\"\" Returning a formatted name\"\"\"\n",
    "    if middle_name:\n",
    "      full_name = f\"{first_name.title()} {middle_name.title()} {last_name.title()}\"\n",
    "    else:\n",
    "      full_name = f\"{first_name.title()} {last_name.title()}\"\n",
    "    return full_name\n",
    "\n"
   ]
  },
  {
   "cell_type": "code",
   "execution_count": 15,
   "metadata": {},
   "outputs": [
    {
     "data": {
      "text/plain": [
       "'Michel Barak Obama'"
      ]
     },
     "execution_count": 15,
     "metadata": {},
     "output_type": "execute_result"
    }
   ],
   "source": [
    "get_formatted_name(\"Michel\",\"obama\",\"barak\")\n"
   ]
  },
  {
   "cell_type": "code",
   "execution_count": 16,
   "metadata": {},
   "outputs": [
    {
     "data": {
      "text/plain": [
       "'Michel Obama'"
      ]
     },
     "execution_count": 16,
     "metadata": {},
     "output_type": "execute_result"
    }
   ],
   "source": [
    "get_formatted_name(\"Michel\",\"obama\")\n"
   ]
  },
  {
   "cell_type": "markdown",
   "metadata": {},
   "source": [
    "### Using while loop in fucntions\n"
   ]
  },
  {
   "cell_type": "code",
   "execution_count": 17,
   "metadata": {},
   "outputs": [
    {
     "name": "stdout",
     "output_type": "stream",
     "text": [
      "A B\n",
      "C D\n",
      "W E\n"
     ]
    }
   ],
   "source": [
    "def get_formatted_name(first_name, last_name):\n",
    "    \"\"\"Return a full name, neatly formatted.\"\"\"\n",
    "    full_name = f\"{first_name} {last_name}\"\n",
    "    return full_name.title()\n",
    "\n",
    "while True:\n",
    "    fname = input(\"Enter first name\")\n",
    "    if fname == 'q':\n",
    "        break\n",
    "    lname = input(\"Enter last name\")\n",
    "    if lname == 'q':\n",
    "        break\n",
    "    print(get_formatted_name(fname,lname))\n",
    "    \n",
    "    "
   ]
  },
  {
   "cell_type": "markdown",
   "metadata": {},
   "source": [
    "### passing list to a function\n"
   ]
  },
  {
   "cell_type": "code",
   "execution_count": 18,
   "metadata": {},
   "outputs": [
    {
     "name": "stdout",
     "output_type": "stream",
     "text": [
      "Hello, Bob\n",
      "Hello, Alice\n",
      "Hello, James\n"
     ]
    }
   ],
   "source": [
    "def greet_users(users):\n",
    "    for user in users:\n",
    "        print(f\"Hello, {user.title()}\")\n",
    "users= [\"Bob\",\"Alice\",\"James\"]\n",
    "greet_users(users)"
   ]
  },
  {
   "cell_type": "markdown",
   "metadata": {},
   "source": [
    "### Modifying a List in a Function\n"
   ]
  },
  {
   "cell_type": "code",
   "execution_count": 20,
   "metadata": {},
   "outputs": [
    {
     "name": "stdout",
     "output_type": "stream",
     "text": [
      "[]\n",
      "['dodecahedron', 'robot pendant', 'phone case']\n"
     ]
    }
   ],
   "source": [
    "### without functions\n",
    "\n",
    "unprinted_designs = ['phone case', 'robot pendant', 'dodecahedron']\n",
    "completed_models = []\n",
    "\n",
    "while unprinted_designs:\n",
    "    item=unprinted_designs.pop()\n",
    "    completed_models.append(item)\n",
    "\n",
    "print(unprinted_designs)\n",
    "print(completed_models)"
   ]
  },
  {
   "cell_type": "code",
   "execution_count": 23,
   "metadata": {},
   "outputs": [
    {
     "name": "stdout",
     "output_type": "stream",
     "text": [
      "Before fucntion call\n",
      "['phone case', 'robot pendant', 'dodecahedron']\n",
      "[]\n",
      "After function call\n",
      "[]\n",
      "['dodecahedron', 'robot pendant', 'phone case']\n"
     ]
    }
   ],
   "source": [
    "def print_models(unprinted_designs, completed_models):\n",
    "    \n",
    "    while unprinted_designs:\n",
    "        item=unprinted_designs.pop()\n",
    "        completed_models.append(item)\n",
    "\n",
    "unprinted_designs = ['phone case', 'robot pendant', 'dodecahedron']\n",
    "completed_models = []\n",
    "print(\"Before fucntion call\")\n",
    "print(unprinted_designs)\n",
    "print(completed_models)\n",
    "\n",
    "print_models(unprinted_designs,completed_models)\n",
    "\n",
    "print(\"After function call\")\n",
    "print(unprinted_designs)\n",
    "print(completed_models)\n",
    "    "
   ]
  },
  {
   "cell_type": "code",
   "execution_count": 25,
   "metadata": {},
   "outputs": [
    {
     "name": "stdout",
     "output_type": "stream",
     "text": [
      "Before fucntion call\n",
      "['phone case', 'robot pendant', 'dodecahedron']\n",
      "[]\n",
      "working on dodecahedron\n",
      "working on robot pendant\n",
      "working on phone case\n",
      "After function call\n",
      "['phone case', 'robot pendant', 'dodecahedron']\n",
      "[]\n"
     ]
    }
   ],
   "source": [
    "# Preventing fucntion from modyfying a list\n",
    "def print_models(unprinted_designs, completed_models):\n",
    "    \n",
    "    while unprinted_designs:\n",
    "        item=unprinted_designs.pop()\n",
    "        print(\"working on \"+item)\n",
    "        completed_models.append(item)\n",
    "\n",
    "unprinted_designs = ['phone case', 'robot pendant', 'dodecahedron']\n",
    "completed_models = []\n",
    "print(\"Before fucntion call\")\n",
    "print(unprinted_designs)\n",
    "print(completed_models)\n",
    "\n",
    "print_models(unprinted_designs[:],completed_models[:])\n",
    "\n",
    "print(\"After function call\")\n",
    "print(unprinted_designs)\n",
    "print(completed_models)"
   ]
  },
  {
   "cell_type": "markdown",
   "metadata": {},
   "source": [
    "### Passing an Arbitrary Number of Arguments\n"
   ]
  },
  {
   "cell_type": "code",
   "execution_count": 28,
   "metadata": {},
   "outputs": [
    {
     "name": "stdout",
     "output_type": "stream",
     "text": [
      "adding pepperoni to the pizza\n",
      "adding pepperoni to the pizza\n",
      "adding mushroom to the pizza\n"
     ]
    }
   ],
   "source": [
    "def make_pizza(*topings): \n",
    "    for topping in topings:\n",
    "        print(f\"adding {topping} to the pizza\")\n",
    "\n",
    "make_pizza('pepperoni')\n",
    "make_pizza('pepperoni','mushroom')\n",
    "\n"
   ]
  },
  {
   "cell_type": "markdown",
   "metadata": {},
   "source": [
    "### Mixing Positional and Arbitrary Arguments\n"
   ]
  },
  {
   "cell_type": "code",
   "execution_count": 30,
   "metadata": {},
   "outputs": [
    {
     "name": "stdout",
     "output_type": "stream",
     "text": [
      "\n",
      "Making a Large-inch pizza with the following toppings:\n",
      "- pepperoni\n",
      "- mushroom\n",
      "\n",
      "Making a Small-inch pizza with the following toppings:\n",
      "- pepperoni\n"
     ]
    }
   ],
   "source": [
    "def make_pizza(size,*toppings):\n",
    "    print(f\"\\nMaking a {size}-inch pizza with the following toppings:\")\n",
    "    for topping in toppings:\n",
    "        print(f\"- {topping}\")\n",
    "\n",
    "make_pizza('Large', 'pepperoni','mushroom')\n",
    "make_pizza('Small', 'pepperoni')\n"
   ]
  },
  {
   "cell_type": "markdown",
   "metadata": {},
   "source": [
    "### Using Arbitrary Keyword Arguments\n"
   ]
  },
  {
   "cell_type": "code",
   "execution_count": 31,
   "metadata": {},
   "outputs": [],
   "source": [
    "def build_profile(first,last,**user_info):\n",
    "    \"\"\"Build a dictionary containing everything we know about the user\"\"\"\n",
    "    user_info['first_name']=first\n",
    "    user_info['last_name']=last\n",
    "    return user_info\n",
    "    \n"
   ]
  },
  {
   "cell_type": "code",
   "execution_count": 32,
   "metadata": {},
   "outputs": [
    {
     "data": {
      "text/plain": [
       "{'first_name': 'albert', 'last_name': 'einstein'}"
      ]
     },
     "execution_count": 32,
     "metadata": {},
     "output_type": "execute_result"
    }
   ],
   "source": [
    "build_profile('albert', 'einstein')"
   ]
  },
  {
   "cell_type": "code",
   "execution_count": 33,
   "metadata": {},
   "outputs": [
    {
     "data": {
      "text/plain": [
       "{'location': 'princeton',\n",
       " 'field': 'physics',\n",
       " 'first_name': 'albert',\n",
       " 'last_name': 'einstein'}"
      ]
     },
     "execution_count": 33,
     "metadata": {},
     "output_type": "execute_result"
    }
   ],
   "source": [
    "build_profile('albert', 'einstein',location='princeton',\n",
    "                             field='physics')"
   ]
  },
  {
   "cell_type": "code",
   "execution_count": 38,
   "metadata": {},
   "outputs": [],
   "source": [
    "def build_profile(first,last,**kwargs):\n",
    "    \"\"\"Build a dictionary containing everything we know about the user\"\"\"\n",
    "    user_info=dict(kwargs)\n",
    "    user_info['first_name']=first\n",
    "    user_info['last_name']=last\n",
    "    print(kwargs)\n",
    "    print(user_info)\n",
    "    return user_info"
   ]
  },
  {
   "cell_type": "code",
   "execution_count": 39,
   "metadata": {},
   "outputs": [
    {
     "name": "stdout",
     "output_type": "stream",
     "text": [
      "{'location': 'princeton', 'field': 'physics'}\n",
      "{'location': 'princeton', 'field': 'physics', 'first_name': 'albert', 'last_name': 'einstein'}\n"
     ]
    },
    {
     "data": {
      "text/plain": [
       "{'location': 'princeton',\n",
       " 'field': 'physics',\n",
       " 'first_name': 'albert',\n",
       " 'last_name': 'einstein'}"
      ]
     },
     "execution_count": 39,
     "metadata": {},
     "output_type": "execute_result"
    }
   ],
   "source": [
    "build_profile('albert', 'einstein',location='princeton',\n",
    "                             field='physics')"
   ]
  },
  {
   "cell_type": "markdown",
   "metadata": {},
   "source": [
    "### Storing Your Functions in Modules\n"
   ]
  },
  {
   "cell_type": "code",
   "execution_count": 1,
   "metadata": {},
   "outputs": [
    {
     "name": "stdout",
     "output_type": "stream",
     "text": [
      "\n",
      "Making a Large-inch pizza with the following toppings:\n",
      "- pepperoni\n",
      "- mushroom\n"
     ]
    }
   ],
   "source": [
    "import pizza\n",
    "pizza.make_pizza('Large', 'pepperoni','mushroom')"
   ]
  },
  {
   "cell_type": "code",
   "execution_count": 7,
   "metadata": {},
   "outputs": [
    {
     "name": "stdout",
     "output_type": "stream",
     "text": [
      "\n",
      "Making a 12-inch pizza with the following toppings:\n",
      "- mushrooms\n",
      "- green peppers\n",
      "- extra cheese\n"
     ]
    }
   ],
   "source": [
    "import pizza as p\n",
    "p.make_pizza(12, 'mushrooms', 'green peppers', 'extra cheese')\n"
   ]
  },
  {
   "cell_type": "code",
   "execution_count": 6,
   "metadata": {},
   "outputs": [
    {
     "name": "stdout",
     "output_type": "stream",
     "text": [
      "\n",
      "Making a 16-inch pizza with the following toppings:\n",
      "- pepperoni\n"
     ]
    }
   ],
   "source": [
    "from pizza import make_pizza\n",
    "make_pizza(16, 'pepperoni')"
   ]
  },
  {
   "cell_type": "code",
   "execution_count": 8,
   "metadata": {},
   "outputs": [
    {
     "name": "stdout",
     "output_type": "stream",
     "text": [
      "\n",
      "Making a 12-inch pizza with the following toppings:\n",
      "- mushrooms\n"
     ]
    }
   ],
   "source": [
    "from pizza import make_pizza as mp\n",
    "mp(12,'mushrooms')"
   ]
  },
  {
   "cell_type": "code",
   "execution_count": 9,
   "metadata": {},
   "outputs": [],
   "source": [
    "from pizza import *"
   ]
  },
  {
   "cell_type": "code",
   "execution_count": 4,
   "metadata": {},
   "outputs": [
    {
     "name": "stdout",
     "output_type": "stream",
     "text": [
      "Help on module pizza:\n",
      "\n",
      "NAME\n",
      "    pizza\n",
      "\n",
      "FUNCTIONS\n",
      "    make_pizza(size, *toppings)\n",
      "        Summarize the pizza we are about to make.\n",
      "\n",
      "FILE\n",
      "    /Users/bhagatv/work/repository/visheshofficial/learn-python/python-crash-course/pizza.py\n",
      "\n",
      "\n"
     ]
    }
   ],
   "source": [
    "help(pizza)"
   ]
  },
  {
   "cell_type": "code",
   "execution_count": 3,
   "metadata": {},
   "outputs": [
    {
     "name": "stdout",
     "output_type": "stream",
     "text": [
      "Help on function make_pizza in module pizza:\n",
      "\n",
      "make_pizza(size, *toppings)\n",
      "    Summarize the pizza we are about to make.\n",
      "\n"
     ]
    }
   ],
   "source": [
    "help(pizza.make_pizza)"
   ]
  },
  {
   "cell_type": "markdown",
   "metadata": {},
   "source": [
    "### Styling Functions\n"
   ]
  },
  {
   "cell_type": "markdown",
   "metadata": {},
   "source": [
    "- names should use lowercase letters and underscores.\n",
    "- comments immediately after the function definition and use the docstring format\n",
    "- If you specify a default value for a parameter, no spaces should be used on either side of the equal sign\n"
   ]
  },
  {
   "cell_type": "code",
   "execution_count": null,
   "metadata": {},
   "outputs": [],
   "source": []
  }
 ],
 "metadata": {
  "kernelspec": {
   "display_name": ".venv",
   "language": "python",
   "name": "python3"
  },
  "language_info": {
   "codemirror_mode": {
    "name": "ipython",
    "version": 3
   },
   "file_extension": ".py",
   "mimetype": "text/x-python",
   "name": "python",
   "nbconvert_exporter": "python",
   "pygments_lexer": "ipython3",
   "version": "3.12.2"
  }
 },
 "nbformat": 4,
 "nbformat_minor": 2
}
