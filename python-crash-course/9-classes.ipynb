{
 "cells": [
  {
   "cell_type": "markdown",
   "metadata": {},
   "source": [
    "### Object Oriented Programming\n",
    "\n",
    "- In object-oriented programming, you write classes that represent real-world things and situations,\n",
    "  and you create objects based on these classes.\n",
    "- Making an object from a class is called instantiation, and you work with instances of a class.\n",
    "-\n"
   ]
  },
  {
   "cell_type": "markdown",
   "metadata": {},
   "source": [
    "### Creating and Using a Class\n"
   ]
  },
  {
   "cell_type": "code",
   "execution_count": 66,
   "metadata": {},
   "outputs": [],
   "source": [
    "class Dog:\n",
    "    \"\"\"A class to model a dog \"\"\"\n",
    "    def __init__(self,name,age) -> None:\n",
    "        \"\"\"Initialize name and age attributes.\"\"\"\n",
    "        self.name=name\n",
    "        self.age=age\n",
    "    \n",
    "    def sit(self):\n",
    "        \"\"\"Simulation of dog sitting in response to a command\"\"\"\n",
    "        print(f\"{self.name} is sitting now\")\n",
    "    \n",
    "    def roll_over(self):\n",
    "        \"\"\"Simulation of dog rolling over in response to a command\"\"\"\n",
    "        print(f\"{self.name} rolling over now\")\n",
    "    "
   ]
  },
  {
   "cell_type": "code",
   "execution_count": 67,
   "metadata": {},
   "outputs": [
    {
     "data": {
      "text/plain": [
       "<__main__.Dog at 0x105f0a690>"
      ]
     },
     "execution_count": 67,
     "metadata": {},
     "output_type": "execute_result"
    }
   ],
   "source": [
    "#Making an Instance from a Class\n",
    "\n",
    "willie=Dog('willie',6)\n",
    "willie\n"
   ]
  },
  {
   "cell_type": "code",
   "execution_count": 68,
   "metadata": {},
   "outputs": [
    {
     "name": "stdout",
     "output_type": "stream",
     "text": [
      "name of the dog is willie\n"
     ]
    }
   ],
   "source": [
    "# Accessing Attributes\n",
    "\n",
    "print(\"name of the dog is \"+ willie.name)"
   ]
  },
  {
   "cell_type": "code",
   "execution_count": 69,
   "metadata": {},
   "outputs": [
    {
     "name": "stdout",
     "output_type": "stream",
     "text": [
      "willie is sitting now\n"
     ]
    }
   ],
   "source": [
    "#Calling Methods\n",
    "\n",
    "willie.sit()"
   ]
  },
  {
   "cell_type": "code",
   "execution_count": 70,
   "metadata": {},
   "outputs": [
    {
     "name": "stdout",
     "output_type": "stream",
     "text": [
      "willie rolling over now\n"
     ]
    }
   ],
   "source": [
    "#Calling Methods\n",
    "\n",
    "willie.roll_over()"
   ]
  },
  {
   "cell_type": "code",
   "execution_count": 71,
   "metadata": {},
   "outputs": [
    {
     "name": "stdout",
     "output_type": "stream",
     "text": [
      "My dog's name is Willie.\n",
      "My dog is 6 years old.\n",
      "Willie is sitting now\n",
      "\n",
      "Your dog's name is Lucy.\n",
      "Your dog is 3 years old.\n",
      "Lucy is sitting now\n"
     ]
    }
   ],
   "source": [
    "# Creating Multiple Instances\n",
    "my_dog = Dog('Willie', 6)\n",
    "your_dog = Dog('Lucy', 3)\n",
    "print(f\"My dog's name is {my_dog.name}.\")\n",
    "print(f\"My dog is {my_dog.age} years old.\")\n",
    "my_dog.sit()\n",
    "\n",
    "print(f\"\\nYour dog's name is {your_dog.name}.\")\n",
    "print(f\"Your dog is {your_dog.age} years old.\")\n",
    "your_dog.sit()"
   ]
  },
  {
   "cell_type": "markdown",
   "metadata": {},
   "source": [
    "### Working with Classes and Instances\n"
   ]
  },
  {
   "cell_type": "code",
   "execution_count": 72,
   "metadata": {},
   "outputs": [],
   "source": [
    "class Car:\n",
    "    \"\"\"A simple attempt to model a car\"\"\"\n",
    "    def __init__(self,model,make,year) -> None:\n",
    "        \"\"\"Initialize attributes to describe a car\"\"\"\n",
    "        self.make=make\n",
    "        self.model=model    \n",
    "        self.year=year\n",
    "        \n",
    "\n",
    "    def get_descriptive_name(self):\n",
    "        return f\"{self.year} {self.make} {self.model}\"\n",
    "\n"
   ]
  },
  {
   "cell_type": "code",
   "execution_count": 73,
   "metadata": {},
   "outputs": [
    {
     "data": {
      "text/plain": [
       "'2019 a4 audi'"
      ]
     },
     "execution_count": 73,
     "metadata": {},
     "output_type": "execute_result"
    }
   ],
   "source": [
    "my_new_car=Car('audi','a4',2019)\n",
    "my_new_car.get_descriptive_name()"
   ]
  },
  {
   "cell_type": "code",
   "execution_count": 74,
   "metadata": {},
   "outputs": [],
   "source": [
    "class Car:\n",
    "    \"\"\"A simple attempt to model a car\"\"\"\n",
    "    def __init__(self,model,make,year) -> None:\n",
    "        \"\"\"Initialize attributes to describe a car\"\"\"\n",
    "        self.make=make\n",
    "        self.model=model    \n",
    "        self.year=year\n",
    "        self.odometer_reading=0\n",
    "\n",
    "    def get_descriptive_name(self):\n",
    "        return f\"{self.year} {self.make} {self.model}\"\n",
    "    \n",
    "    def read_odometer(self):\n",
    "        print(f\"This car has {self.odometer_reading} miles on it.\")"
   ]
  },
  {
   "cell_type": "code",
   "execution_count": 75,
   "metadata": {},
   "outputs": [
    {
     "name": "stdout",
     "output_type": "stream",
     "text": [
      "This car has 0 miles on it.\n"
     ]
    }
   ],
   "source": [
    "my_new_car=Car('audi','a4',2019)\n",
    "my_new_car.get_descriptive_name()\n",
    "my_new_car.read_odometer()\n"
   ]
  },
  {
   "cell_type": "code",
   "execution_count": 76,
   "metadata": {},
   "outputs": [
    {
     "name": "stdout",
     "output_type": "stream",
     "text": [
      "This car has 23 miles on it.\n"
     ]
    }
   ],
   "source": [
    "#Modifying an Attribute’s Value Directly\n",
    "\n",
    "my_new_car.odometer_reading=23\n",
    "\n",
    "my_new_car.read_odometer()\n"
   ]
  },
  {
   "cell_type": "code",
   "execution_count": 77,
   "metadata": {},
   "outputs": [],
   "source": [
    "# Modifying an Attribute’s Value Through a Method\n",
    "class Car:\n",
    "    \"\"\"A simple attempt to model a car\"\"\"\n",
    "    def __init__(self,model,make,year) -> None:\n",
    "        \"\"\"Initialize attributes to describe a car\"\"\"\n",
    "        self.make=make\n",
    "        self.model=model    \n",
    "        self.year=year\n",
    "        self.odometer_reading=0\n",
    "\n",
    "    def get_descriptive_name(self):\n",
    "        return f\"{self.year} {self.make} {self.model}\"\n",
    "    \n",
    "    def read_odometer(self):\n",
    "        print(f\"This car has {self.odometer_reading} miles on it.\")\n",
    "        \n",
    "    def update_odometer(self, mileage):\n",
    "        self.odometer_reading=mileage"
   ]
  },
  {
   "cell_type": "code",
   "execution_count": 78,
   "metadata": {},
   "outputs": [
    {
     "name": "stdout",
     "output_type": "stream",
     "text": [
      "This car has 0 miles on it.\n",
      "This car has 23 miles on it.\n"
     ]
    }
   ],
   "source": [
    "my_new_car=Car('bmw','x5',2020)\n",
    "my_new_car.read_odometer()\n",
    "my_new_car.update_odometer(23)\n",
    "my_new_car.read_odometer()"
   ]
  },
  {
   "cell_type": "markdown",
   "metadata": {},
   "source": [
    "## Inheritance\n"
   ]
  },
  {
   "cell_type": "markdown",
   "metadata": {},
   "source": [
    "When one class inherits from another, it takes on the attributes and methods of the first class. The original class is called the parent class, and the new class is the child class.\n"
   ]
  },
  {
   "cell_type": "code",
   "execution_count": 79,
   "metadata": {},
   "outputs": [],
   "source": [
    "class Car:\n",
    "    \"\"\"A simple attempt to represent a car.\"\"\"\n",
    "\n",
    "    def __init__(self, make, model, year):\n",
    "        \"\"\"Initialize attributes to describe a car.\"\"\"\n",
    "        self.make = make\n",
    "        self.model = model\n",
    "        self.year = year\n",
    "        self.odometer_reading = 0\n",
    "\n",
    "    def get_descriptive_name(self):\n",
    "        \"\"\"Return a neatly formatted descriptive name.\"\"\"\n",
    "        long_name = f\"{self.year} {self.make} {self.model}\"\n",
    "        return long_name.title()\n",
    "\n",
    "    def read_odometer(self):\n",
    "        \"\"\"Print a statement showing the car's mileage.\"\"\"\n",
    "        print(f\"This car has {self.odometer_reading} miles on it.\")\n",
    "\n",
    "    def update_odometer(self, mileage):\n",
    "        \"\"\"Set the odometer reading to the given value.\"\"\"\n",
    "        if mileage >= self.odometer_reading:\n",
    "            self.odometer_reading = mileage\n",
    "        else:\n",
    "            print(\"You can't roll back an odometer!\")\n",
    "\n",
    "    def increment_odometer(self, miles):\n",
    "        \"\"\"Add the given amount to the odometer reading.\"\"\"\n",
    "        self.odometer_reading += miles"
   ]
  },
  {
   "cell_type": "code",
   "execution_count": 80,
   "metadata": {},
   "outputs": [],
   "source": [
    "# inherit car in electric car\n",
    "class ElectricCar(Car):\n",
    "    def __init__(self,make,model,year) -> None:\n",
    "        \"\"\"Initialize attributes of the parent class.\"\"\"\n",
    "        super().__init__(make,model,year)\n",
    "        "
   ]
  },
  {
   "cell_type": "code",
   "execution_count": 81,
   "metadata": {},
   "outputs": [
    {
     "data": {
      "text/plain": [
       "'2020 Tesla Model S'"
      ]
     },
     "execution_count": 81,
     "metadata": {},
     "output_type": "execute_result"
    }
   ],
   "source": [
    "my_eletric_car=ElectricCar('tesla','model s',2020)\n",
    "my_eletric_car.get_descriptive_name()"
   ]
  },
  {
   "cell_type": "markdown",
   "metadata": {},
   "source": [
    "Note:\n",
    "\n",
    "- When you create a child class, the parent class must be part of the current file and must appear before the child class in the file.\n",
    "- The name super comes from a convention of calling the parent class a superclass and the child class a subclass.\n"
   ]
  },
  {
   "cell_type": "code",
   "execution_count": 82,
   "metadata": {},
   "outputs": [],
   "source": [
    "#\n",
    "# inherit car in electric car\n",
    "class ElectricCar(Car):\n",
    "    def __init__(self,make,model,year) -> None:\n",
    "        \"\"\"Initialize attributes of the parent class.\"\"\"\n",
    "        super().__init__(make,model,year)\n",
    "        self.battery_size=75\n",
    "        \n",
    "    def describe_battery(self):\n",
    "        print(f\"This car has a {self.battery_size}-kWh battery.\")\n",
    "        "
   ]
  },
  {
   "cell_type": "code",
   "execution_count": 83,
   "metadata": {},
   "outputs": [
    {
     "name": "stdout",
     "output_type": "stream",
     "text": [
      "2020 Tesla Model S\n",
      "This car has a 75-kWh battery.\n"
     ]
    }
   ],
   "source": [
    "my_eletric_car=ElectricCar('tesla','model s',2020)\n",
    "print(my_eletric_car.get_descriptive_name())\n",
    "my_eletric_car.describe_battery()"
   ]
  },
  {
   "cell_type": "code",
   "execution_count": 84,
   "metadata": {},
   "outputs": [],
   "source": [
    "# Overriding Methods from the Parent Class\n",
    "class Car:\n",
    "    \"\"\"A simple attempt to represent a car.\"\"\"\n",
    "\n",
    "    def __init__(self, make, model, year):\n",
    "        \"\"\"Initialize attributes to describe a car.\"\"\"\n",
    "        self.make = make\n",
    "        self.model = model\n",
    "        self.year = year\n",
    "        self.odometer_reading = 0\n",
    "        self.fuel=0\n",
    "\n",
    "    def get_descriptive_name(self):\n",
    "        \"\"\"Return a neatly formatted descriptive name.\"\"\"\n",
    "        long_name = f\"{self.year} {self.make} {self.model}\"\n",
    "        return long_name.title()\n",
    "\n",
    "    def read_odometer(self):\n",
    "        \"\"\"Print a statement showing the car's mileage.\"\"\"\n",
    "        print(f\"This car has {self.odometer_reading} miles on it.\")\n",
    "\n",
    "    def update_odometer(self, mileage):\n",
    "        \"\"\"Set the odometer reading to the given value.\"\"\"\n",
    "        if mileage >= self.odometer_reading:\n",
    "            self.odometer_reading = mileage\n",
    "        else:\n",
    "            print(\"You can't roll back an odometer!\")\n",
    "\n",
    "    def increment_odometer(self, miles):\n",
    "        \"\"\"Add the given amount to the odometer reading.\"\"\"\n",
    "        self.odometer_reading += miles\n",
    "        \n",
    "    def fill_gas_tank(self,litres):\n",
    "        self.fuel+=litres\n",
    "    \n",
    "class ElectricCar(Car):\n",
    "    def __init__(self,make,model,year) -> None:\n",
    "        \"\"\"Initialize attributes of the parent class.\"\"\"\n",
    "        super().__init__(make,model,year)\n",
    "        self.battery_size=75\n",
    "        \n",
    "    def describe_battery(self):\n",
    "        print(f\"This car has a {self.battery_size}-kWh battery.\")\n",
    "        \n",
    "    def fill_gas_tank(self,litres=0):\n",
    "        print(\"This car doesn't need a gas tank!\")"
   ]
  },
  {
   "cell_type": "code",
   "execution_count": 85,
   "metadata": {},
   "outputs": [
    {
     "name": "stdout",
     "output_type": "stream",
     "text": [
      "This car doesn't need a gas tank!\n"
     ]
    }
   ],
   "source": [
    "ElectricCar('tesla','model s',2020).fill_gas_tank()\n"
   ]
  },
  {
   "cell_type": "markdown",
   "metadata": {},
   "source": [
    "### Instances as Attributes\n",
    "\n",
    "You can break your large class into smaller classes that work together; this approach is called composition.\n"
   ]
  },
  {
   "cell_type": "code",
   "execution_count": 86,
   "metadata": {},
   "outputs": [],
   "source": [
    "class Battery:\n",
    "    \"\"\"A simple attempt to model a battery for an electric car.\"\"\"\n",
    "    def __init__(self,battery_size) -> None:\n",
    "        self.battery_size=battery_size\n",
    "    \n",
    "    def describe_battery(self):\n",
    "        print(f\"This battery is of {self.battery_size}-kWh.\")\n",
    "        \n",
    "class ElectricCar(Car):\n",
    "    def __init__(self,make,model,year) -> None:\n",
    "        \"\"\"Initialize attributes of the parent class.\"\"\"\n",
    "        super().__init__(make,model,year)\n",
    "        self.battery=Battery(75)\n",
    "        \n",
    "    def fill_gas_tank(self,litres=0):\n",
    "        print(\"This car doesn't need a gas tank!\")"
   ]
  },
  {
   "cell_type": "code",
   "execution_count": 87,
   "metadata": {},
   "outputs": [
    {
     "name": "stdout",
     "output_type": "stream",
     "text": [
      "This battery is of 75-kWh.\n"
     ]
    }
   ],
   "source": [
    "my_tesla=ElectricCar('tesla','model s',2020)\n",
    "my_tesla.battery.describe_battery()"
   ]
  },
  {
   "cell_type": "code",
   "execution_count": 88,
   "metadata": {},
   "outputs": [],
   "source": [
    "class Battery:\n",
    "    \"\"\"A simple attempt to model a battery for an electric car.\"\"\"\n",
    "    def __init__(self,battery_size) -> None:\n",
    "        self.battery_size=battery_size\n",
    "    \n",
    "    def describe_battery(self):\n",
    "        print(f\"This battery is of {self.battery_size}-kWh.\")\n",
    "    def get_range(self):\n",
    "        if self.battery_size==75:\n",
    "            range=260\n",
    "        elif self.battery_size==100:\n",
    "            range=315\n",
    "        print(f\"This car can go about {range} miles on a full charge.\")\n",
    "        \n",
    "class ElectricCar(Car):\n",
    "    def __init__(self,make,model,year) -> None:\n",
    "        \"\"\"Initialize attributes of the parent class.\"\"\"\n",
    "        super().__init__(make,model,year)\n",
    "        self.battery=Battery(75)\n",
    "        \n",
    "    def fill_gas_tank(self,litres=0):\n",
    "        print(\"This car doesn't need a gas tank!\")"
   ]
  },
  {
   "cell_type": "code",
   "execution_count": 89,
   "metadata": {},
   "outputs": [
    {
     "name": "stdout",
     "output_type": "stream",
     "text": [
      "This car can go about 260 miles on a full charge.\n"
     ]
    }
   ],
   "source": [
    "my_eletric_car=ElectricCar('tesla','model s',2020)\n",
    "my_eletric_car.battery.get_range()\n"
   ]
  },
  {
   "cell_type": "markdown",
   "metadata": {},
   "source": [
    "### Importing Classes\n"
   ]
  },
  {
   "cell_type": "code",
   "execution_count": 90,
   "metadata": {},
   "outputs": [
    {
     "data": {
      "text/plain": [
       "'2020 Tesla Model S'"
      ]
     },
     "execution_count": 90,
     "metadata": {},
     "output_type": "execute_result"
    }
   ],
   "source": [
    "from car import Car\n",
    "class NewElectricCar(Car):\n",
    "    pass\n",
    "\n",
    "my_eletric_car=NewElectricCar('tesla','model s',2020)\n",
    "my_eletric_car.get_descriptive_name()"
   ]
  },
  {
   "cell_type": "code",
   "execution_count": 3,
   "metadata": {},
   "outputs": [
    {
     "data": {
      "text/plain": [
       "'2020 Tesla Model S'"
      ]
     },
     "execution_count": 3,
     "metadata": {},
     "output_type": "execute_result"
    }
   ],
   "source": [
    "from car import ElectricCar\n",
    "my_eletric_car=ElectricCar('tesla','model s',2020)\n",
    "my_eletric_car.get_descriptive_name()\n"
   ]
  },
  {
   "cell_type": "code",
   "execution_count": 5,
   "metadata": {},
   "outputs": [
    {
     "name": "stdout",
     "output_type": "stream",
     "text": [
      "2019 Audi A4\n",
      "2019 Tesla Model S\n"
     ]
    }
   ],
   "source": [
    "# importing entire module\n",
    "import car\n",
    "my_new_car=car.Car('audi','a4',2019)\n",
    "print(my_new_car.get_descriptive_name())\n",
    "\n",
    "my_new_electric_car = car.ElectricCar('tesla', 'model s', 2019)\n",
    "print(my_new_electric_car.get_descriptive_name())"
   ]
  },
  {
   "cell_type": "code",
   "execution_count": 6,
   "metadata": {},
   "outputs": [
    {
     "name": "stdout",
     "output_type": "stream",
     "text": [
      "2019 Audi A4\n",
      "2019 Tesla Model S\n"
     ]
    }
   ],
   "source": [
    "#Importing All Classes from a Module\n",
    "from car import *\n",
    "my_new_car=Car('audi','a4',2019)\n",
    "print(my_new_car.get_descriptive_name())\n",
    "\n",
    "my_new_electric_car = ElectricCar('tesla', 'model s', 2019)\n",
    "\n",
    "print(my_new_electric_car.get_descriptive_name())"
   ]
  },
  {
   "cell_type": "code",
   "execution_count": 8,
   "metadata": {},
   "outputs": [
    {
     "name": "stdout",
     "output_type": "stream",
     "text": [
      "2019 Tesla Model S\n"
     ]
    }
   ],
   "source": [
    "# Importing a Module into a Module\n",
    "from electric_car import E_ElectricCar\n",
    "my_new_electric_car = E_ElectricCar('tesla', 'model s', 2019)\n",
    "print(my_new_electric_car.get_descriptive_name())\n"
   ]
  },
  {
   "cell_type": "markdown",
   "metadata": {},
   "source": []
  },
  {
   "cell_type": "markdown",
   "metadata": {},
   "source": [
    "### Styling Classes\n",
    "\n",
    "- class names should be written in CamelCase\n",
    "- Every class should have a docstring immediately following the class definition\n",
    "- Each module should also have a docstring describing what the classes in a module can be used for.\n",
    "- one blank line between methods\n",
    "- two blank lines to separate classes\n"
   ]
  }
 ],
 "metadata": {
  "kernelspec": {
   "display_name": ".venv",
   "language": "python",
   "name": "python3"
  },
  "language_info": {
   "codemirror_mode": {
    "name": "ipython",
    "version": 3
   },
   "file_extension": ".py",
   "mimetype": "text/x-python",
   "name": "python",
   "nbconvert_exporter": "python",
   "pygments_lexer": "ipython3",
   "version": "3.12.2"
  }
 },
 "nbformat": 4,
 "nbformat_minor": 2
}
