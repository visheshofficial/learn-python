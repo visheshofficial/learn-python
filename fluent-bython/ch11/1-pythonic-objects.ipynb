{
 "cells": [
  {
   "cell_type": "code",
   "execution_count": null,
   "metadata": {},
   "outputs": [],
   "source": [
    "class Vector2D:\n",
    "    \"\"\"A class to represent a 2D vector\"\"\"\n",
    "\n",
    "    def __init__(self, x, y) -> None:\n",
    "        \"\"\"The constructor for the Vector2D class\n",
    "\n",
    "        Args:\n",
    "            x (_type_): The x component of the vector\n",
    "            y (_type_): The y component of the vector\n",
    "\n",
    "        Returns:\n",
    "            None\n",
    "\n",
    "        Example:\n",
    "            v = Vector2D(1, 2)\n",
    "        \"\"\"\n",
    "        self.x = x\n",
    "        self.y = y\n",
    "\n",
    "    def __iter__(self):\n",
    "        return (\n",
    "            i for i in (self.x, self.y)\n",
    "        )  # This returns a generator expression that yields the x and y values.\n",
    "        # It allows you to use the vector in contexts where an iterable is expected (for example, converting it to a tuple or unpacking it).\n",
    "\n",
    "    def __repr__(self) -> str:\n",
    "        \"\"\"Return a officla string representation of the object\n",
    "\n",
    "        Returns:\n",
    "            str: a string representation of the object\n",
    "        \"\"\"\n",
    "        class_name = type(self).__name__\n",
    "        return \"{}({!r}{!r})\".format(\n",
    "            class_name, *self\n",
    "        )  # This uses the {!r} format specifier to get the standard string representation of the attributes.\n",
    "\n",
    "    def __str__(self) -> str:\n",
    "        return str(tuple(self))\n",
    "\n",
    "    def __eq__(self, other) -> bool:\n",
    "        return tuple(self) == tuple(other)\n",
    "\n",
    "    def abs(self):\n",
    "        return"
   ]
  }
 ],
 "metadata": {
  "language_info": {
   "name": "python"
  }
 },
 "nbformat": 4,
 "nbformat_minor": 2
}
