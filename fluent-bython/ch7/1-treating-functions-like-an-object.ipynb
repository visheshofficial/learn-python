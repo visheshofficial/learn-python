{
 "cells": [
  {
   "cell_type": "markdown",
   "metadata": {},
   "source": [
    "### Function as a first class object"
   ]
  },
  {
   "cell_type": "markdown",
   "metadata": {},
   "source": [
    "- Created at runtime\n",
    "\n",
    "- Assigned to a variable or element in a data structure\n",
    "\n",
    "- Passed as an argument to a function\n",
    "\n",
    "- Returned as the result of a function"
   ]
  },
  {
   "cell_type": "code",
   "execution_count": 6,
   "metadata": {},
   "outputs": [],
   "source": [
    "def factorial(n):\n",
    "    \"\"\"Calculate factorial of a number\n",
    "\n",
    "    Args:\n",
    "        n (int): Number to calculate factorial\n",
    "\n",
    "    Returns:\n",
    "        int: Factorial of n\n",
    "    \"\"\"\n",
    "    if n == 0:\n",
    "        return 1\n",
    "    else:\n",
    "        return n * factorial(n - 1)"
   ]
  },
  {
   "cell_type": "code",
   "execution_count": 2,
   "metadata": {},
   "outputs": [
    {
     "data": {
      "text/plain": [
       "2"
      ]
     },
     "execution_count": 2,
     "metadata": {},
     "output_type": "execute_result"
    }
   ],
   "source": [
    "factorial(2)"
   ]
  },
  {
   "cell_type": "code",
   "execution_count": 3,
   "metadata": {},
   "outputs": [
    {
     "data": {
      "text/plain": [
       "479001600"
      ]
     },
     "execution_count": 3,
     "metadata": {},
     "output_type": "execute_result"
    }
   ],
   "source": [
    "factorial(12)"
   ]
  },
  {
   "cell_type": "code",
   "execution_count": 7,
   "metadata": {},
   "outputs": [
    {
     "data": {
      "text/plain": [
       "'Calculate factorial of a number\\n\\n    Args:\\n        n (int): Number to calculate factorial\\n\\n    Returns:\\n        int: Factorial of n\\n    '"
      ]
     },
     "execution_count": 7,
     "metadata": {},
     "output_type": "execute_result"
    }
   ],
   "source": [
    "factorial.__doc__"
   ]
  },
  {
   "cell_type": "code",
   "execution_count": 8,
   "metadata": {},
   "outputs": [
    {
     "data": {
      "text/plain": [
       "function"
      ]
     },
     "execution_count": 8,
     "metadata": {},
     "output_type": "execute_result"
    }
   ],
   "source": [
    "type(factorial)"
   ]
  },
  {
   "cell_type": "code",
   "execution_count": 9,
   "metadata": {},
   "outputs": [
    {
     "name": "stdout",
     "output_type": "stream",
     "text": [
      "Help on function factorial in module __main__:\n",
      "\n",
      "factorial(n)\n",
      "    Calculate factorial of a number\n",
      "\n",
      "    Args:\n",
      "        n (int): Number to calculate factorial\n",
      "\n",
      "    Returns:\n",
      "        int: Factorial of n\n",
      "\n"
     ]
    }
   ],
   "source": [
    "help(factorial)"
   ]
  },
  {
   "cell_type": "code",
   "execution_count": 11,
   "metadata": {},
   "outputs": [
    {
     "data": {
      "text/plain": [
       "120"
      ]
     },
     "execution_count": 11,
     "metadata": {},
     "output_type": "execute_result"
    }
   ],
   "source": [
    "fact = factorial\n",
    "fact(5)"
   ]
  },
  {
   "cell_type": "code",
   "execution_count": 12,
   "metadata": {},
   "outputs": [
    {
     "data": {
      "text/plain": [
       "<function __main__.factorial(n)>"
      ]
     },
     "execution_count": 12,
     "metadata": {},
     "output_type": "execute_result"
    }
   ],
   "source": [
    "fact"
   ]
  },
  {
   "cell_type": "code",
   "execution_count": 13,
   "metadata": {},
   "outputs": [
    {
     "data": {
      "text/plain": [
       "[1, 1, 2, 6, 24, 120, 720, 5040, 40320, 362880]"
      ]
     },
     "execution_count": 13,
     "metadata": {},
     "output_type": "execute_result"
    }
   ],
   "source": [
    "list(map(fact, range(10)))"
   ]
  },
  {
   "cell_type": "markdown",
   "metadata": {},
   "source": [
    "### Higher-order function\n",
    "- A function that takes a function as an argument or returns a function as a result\n",
    "- Ex) map, filter, reduce"
   ]
  },
  {
   "cell_type": "code",
   "execution_count": 14,
   "metadata": {},
   "outputs": [
    {
     "data": {
      "text/plain": [
       "[5, 6, 6]"
      ]
     },
     "execution_count": 14,
     "metadata": {},
     "output_type": "execute_result"
    }
   ],
   "source": [
    "fruits = [\"apple\", \"banana\", \"cherry\"]\n",
    "list(map(len, fruits))"
   ]
  },
  {
   "cell_type": "code",
   "execution_count": 17,
   "metadata": {},
   "outputs": [],
   "source": [
    "def reverse(word):\n",
    "    \"\"\"Reverse a word\n",
    "\n",
    "    Args:\n",
    "        word (str): Word to reverse\n",
    "\n",
    "    Returns:\n",
    "        str: Reversed word\n",
    "    \"\"\"\n",
    "    return word[::-1]"
   ]
  },
  {
   "cell_type": "code",
   "execution_count": 19,
   "metadata": {},
   "outputs": [
    {
     "data": {
      "text/plain": [
       "'olleh'"
      ]
     },
     "execution_count": 19,
     "metadata": {},
     "output_type": "execute_result"
    }
   ],
   "source": [
    "reverse(\"hello\")"
   ]
  },
  {
   "cell_type": "code",
   "execution_count": 20,
   "metadata": {},
   "outputs": [
    {
     "data": {
      "text/plain": [
       "['fig', 'apple', 'banana', 'cherry', 'blueberry', 'strawberry']"
      ]
     },
     "execution_count": 20,
     "metadata": {},
     "output_type": "execute_result"
    }
   ],
   "source": [
    "fruits = [\"apple\", \"banana\", \"cherry\", \"strawberry\", \"blueberry\", \"fig\"]\n",
    "list(sorted(fruits, key=len))"
   ]
  },
  {
   "cell_type": "code",
   "execution_count": 21,
   "metadata": {},
   "outputs": [
    {
     "data": {
      "text/plain": [
       "['banana', 'apple', 'fig', 'blueberry', 'strawberry', 'cherry']"
      ]
     },
     "execution_count": 21,
     "metadata": {},
     "output_type": "execute_result"
    }
   ],
   "source": [
    "list(sorted(fruits, key=reverse))"
   ]
  },
  {
   "cell_type": "markdown",
   "metadata": {},
   "source": [
    "### Modern Replacements for map, filter, and reduce\n",
    "- List comprehensions and generator expressions\n",
    "- All three functions return a new list, but a list comprehension is often clearer and more concise\n",
    "- Generator expressions are more memory efficient"
   ]
  },
  {
   "cell_type": "code",
   "execution_count": 22,
   "metadata": {},
   "outputs": [
    {
     "data": {
      "text/plain": [
       "[1, 1, 2, 6, 24, 120, 720, 5040, 40320, 362880]"
      ]
     },
     "execution_count": 22,
     "metadata": {},
     "output_type": "execute_result"
    }
   ],
   "source": [
    "list(map(factorial, range(10)))"
   ]
  },
  {
   "cell_type": "code",
   "execution_count": 23,
   "metadata": {},
   "outputs": [
    {
     "data": {
      "text/plain": [
       "[1, 1, 2, 6, 24, 120, 720, 5040, 40320, 362880]"
      ]
     },
     "execution_count": 23,
     "metadata": {},
     "output_type": "execute_result"
    }
   ],
   "source": [
    "[factorial(n) for n in range(10)]"
   ]
  },
  {
   "cell_type": "code",
   "execution_count": 24,
   "metadata": {},
   "outputs": [
    {
     "data": {
      "text/plain": [
       "4950"
      ]
     },
     "execution_count": 24,
     "metadata": {},
     "output_type": "execute_result"
    }
   ],
   "source": [
    "from functools import reduce\n",
    "from operator import add\n",
    "\n",
    "reduce(add, range(100))"
   ]
  },
  {
   "cell_type": "code",
   "execution_count": 25,
   "metadata": {},
   "outputs": [
    {
     "data": {
      "text/plain": [
       "4950"
      ]
     },
     "execution_count": 25,
     "metadata": {},
     "output_type": "execute_result"
    }
   ],
   "source": [
    "sum(range(100))"
   ]
  },
  {
   "cell_type": "markdown",
   "metadata": {},
   "source": [
    "In Python, reducers are built-in functions that process an iterable and return a single cumulative value. Some of the most commonly used reducers include sum(), all(), any(), max(), and min(). These functions are very useful for performing aggregate operations on lists, tuples, and other iterables."
   ]
  },
  {
   "cell_type": "code",
   "execution_count": 26,
   "metadata": {},
   "outputs": [
    {
     "name": "stdout",
     "output_type": "stream",
     "text": [
      "15\n"
     ]
    }
   ],
   "source": [
    "numbers = [1, 2, 3, 4, 5]\n",
    "result = sum(numbers)\n",
    "print(result)  # Output: 15"
   ]
  },
  {
   "cell_type": "code",
   "execution_count": 27,
   "metadata": {},
   "outputs": [
    {
     "name": "stdout",
     "output_type": "stream",
     "text": [
      "False\n"
     ]
    }
   ],
   "source": [
    "conditions = [True, True, False]\n",
    "result = all(conditions)\n",
    "print(result)  # Output: False"
   ]
  },
  {
   "cell_type": "code",
   "execution_count": 28,
   "metadata": {},
   "outputs": [
    {
     "name": "stdout",
     "output_type": "stream",
     "text": [
      "True\n"
     ]
    }
   ],
   "source": [
    "conditions = [False, False, True]\n",
    "result = any(conditions)\n",
    "print(result)  # Output: True"
   ]
  },
  {
   "cell_type": "markdown",
   "metadata": {},
   "source": [
    "### Anonymous Functions"
   ]
  },
  {
   "cell_type": "code",
   "execution_count": 29,
   "metadata": {},
   "outputs": [
    {
     "data": {
      "text/plain": [
       "['banana', 'apple', 'fig', 'blueberry', 'strawberry', 'cherry']"
      ]
     },
     "execution_count": 29,
     "metadata": {},
     "output_type": "execute_result"
    }
   ],
   "source": [
    "fruits = [\"apple\", \"banana\", \"cherry\", \"strawberry\", \"blueberry\", \"fig\"]\n",
    "\n",
    "sorted(fruits, key=lambda fruit_name: fruit_name[::-1])"
   ]
  },
  {
   "cell_type": "markdown",
   "metadata": {},
   "source": [
    "### Callable objects\n",
    "- User-defined functions\n",
    "- Built-in functions\n",
    "- Built-in methods\n",
    "- Methods\n",
    "- Classes\n",
    "- Class instances\n",
    "- Generator functions\n",
    "- Native coroutines\n",
    "- Asynchronous generator functions \n",
    "\n"
   ]
  },
  {
   "cell_type": "code",
   "execution_count": 31,
   "metadata": {},
   "outputs": [
    {
     "data": {
      "text/plain": [
       "[True, True, False, False]"
      ]
     },
     "execution_count": 31,
     "metadata": {},
     "output_type": "execute_result"
    }
   ],
   "source": [
    "[callable(obj) for obj in [abs, str, 13, \"Nil\"]]"
   ]
  },
  {
   "cell_type": "code",
   "execution_count": 35,
   "metadata": {},
   "outputs": [],
   "source": [
    "# User Defined Callable Classes\n",
    "class Incrementer:\n",
    "    def __init__(self, data):\n",
    "        self.data = data\n",
    "\n",
    "    def __call__(self):\n",
    "        self.data += 1\n",
    "        return self.data"
   ]
  },
  {
   "cell_type": "code",
   "execution_count": 38,
   "metadata": {},
   "outputs": [
    {
     "data": {
      "text/plain": [
       "2"
      ]
     },
     "execution_count": 38,
     "metadata": {},
     "output_type": "execute_result"
    }
   ],
   "source": [
    "incrementer = Incrementer(2)\n",
    "incrementer.data"
   ]
  },
  {
   "cell_type": "code",
   "execution_count": 39,
   "metadata": {},
   "outputs": [
    {
     "data": {
      "text/plain": [
       "3"
      ]
     },
     "execution_count": 39,
     "metadata": {},
     "output_type": "execute_result"
    }
   ],
   "source": [
    "incrementer()"
   ]
  },
  {
   "cell_type": "code",
   "execution_count": 40,
   "metadata": {},
   "outputs": [
    {
     "data": {
      "text/plain": [
       "3"
      ]
     },
     "execution_count": 40,
     "metadata": {},
     "output_type": "execute_result"
    }
   ],
   "source": [
    "incrementer.data"
   ]
  },
  {
   "cell_type": "code",
   "execution_count": 41,
   "metadata": {},
   "outputs": [
    {
     "data": {
      "text/plain": [
       "True"
      ]
     },
     "execution_count": 41,
     "metadata": {},
     "output_type": "execute_result"
    }
   ],
   "source": [
    "callable(incrementer)"
   ]
  },
  {
   "cell_type": "code",
   "execution_count": 46,
   "metadata": {},
   "outputs": [],
   "source": [
    "import random\n",
    "\n",
    "\n",
    "class BingoCage:\n",
    "    def __init__(self, items) -> None:\n",
    "        self._items = list(\n",
    "            items\n",
    "        )  # Copy the items to avoid effects of changes in the original list\n",
    "        random.shuffle(self._items)\n",
    "\n",
    "    def pick(self):\n",
    "        try:\n",
    "            return self._items.pop()\n",
    "        except IndexError:\n",
    "            raise LookupError(\"pick from empty BingoCage\")\n",
    "\n",
    "    def __call__(self):\n",
    "        print(\"Calling the object...\")\n",
    "        return self.pick()"
   ]
  },
  {
   "cell_type": "code",
   "execution_count": 47,
   "metadata": {},
   "outputs": [],
   "source": [
    "bindo = BingoCage([1, 2, 3, 4, 5])"
   ]
  },
  {
   "cell_type": "code",
   "execution_count": 48,
   "metadata": {},
   "outputs": [
    {
     "data": {
      "text/plain": [
       "5"
      ]
     },
     "execution_count": 48,
     "metadata": {},
     "output_type": "execute_result"
    }
   ],
   "source": [
    "bindo.pick()"
   ]
  },
  {
   "cell_type": "code",
   "execution_count": 49,
   "metadata": {},
   "outputs": [
    {
     "name": "stdout",
     "output_type": "stream",
     "text": [
      "Calling the object...\n"
     ]
    },
    {
     "data": {
      "text/plain": [
       "3"
      ]
     },
     "execution_count": 49,
     "metadata": {},
     "output_type": "execute_result"
    }
   ],
   "source": [
    "bindo()"
   ]
  },
  {
   "cell_type": "code",
   "execution_count": 50,
   "metadata": {},
   "outputs": [],
   "source": [
    "# From Positional to Keyword-Only Parameters"
   ]
  },
  {
   "cell_type": "code",
   "execution_count": 100,
   "metadata": {},
   "outputs": [],
   "source": [
    "def tag(name, *content, _class=None, **attrs):\n",
    "    \"\"\"\n",
    "    Generate one or more HTML tags.\n",
    "\n",
    "    Args:\n",
    "        name (str): The HTML tag name.\n",
    "        *content: Zero or more strings representing the inner content of the tag.\n",
    "        _class (str, optional): A special keyword argument for setting the \"class\" attribute.\n",
    "        **attrs: Additional HTML attributes as keyword arguments.\n",
    "\n",
    "    Returns:\n",
    "        str: The generated HTML tag(s) as a string.\n",
    "\n",
    "    Examples:\n",
    "        >>> print(tag(\"p\", \"Hello, world!\", _class=\"intro\"))\n",
    "        <p class=\"intro\">Hello, world!</p>\n",
    "\n",
    "        >>> print(tag(\"img\", src=\"logo.png\", alt=\"Logo\"))\n",
    "        <img src=\"logo.png\" alt=\"Logo\"/>\n",
    "    \"\"\"\n",
    "    if _class is not None:\n",
    "        attrs[\"class\"] = _class\n",
    "    # Build attribute string; prepend a space if there are attributes.\n",
    "    if attrs:\n",
    "        attrs_str = \" \" + \" \".join(f'{key}=\"{value}\"' for key, value in attrs.items())\n",
    "    else:\n",
    "        attrs_str = \"\"\n",
    "\n",
    "    if content:\n",
    "        # Generate a full tag for each piece of content\n",
    "        elements = [f\"<{name}{attrs_str}>{c}</{name}>\" for c in content]\n",
    "        return \"\\n\".join(elements)\n",
    "    else:\n",
    "        # Generate a self-closing tag when there is no content.\n",
    "        return f\"<{name}{attrs_str}/>\""
   ]
  },
  {
   "cell_type": "code",
   "execution_count": 101,
   "metadata": {},
   "outputs": [
    {
     "data": {
      "text/plain": [
       "'<br/>'"
      ]
     },
     "execution_count": 101,
     "metadata": {},
     "output_type": "execute_result"
    }
   ],
   "source": [
    "tag(\"br\")"
   ]
  },
  {
   "cell_type": "code",
   "execution_count": 102,
   "metadata": {},
   "outputs": [
    {
     "data": {
      "text/plain": [
       "'<p>hello</p>'"
      ]
     },
     "execution_count": 102,
     "metadata": {},
     "output_type": "execute_result"
    }
   ],
   "source": [
    "tag(\"p\", \"hello\")"
   ]
  },
  {
   "cell_type": "code",
   "execution_count": 103,
   "metadata": {},
   "outputs": [
    {
     "data": {
      "text/plain": [
       "'<p>hello</p>\\n<p>world</p>'"
      ]
     },
     "execution_count": 103,
     "metadata": {},
     "output_type": "execute_result"
    }
   ],
   "source": [
    "tag(\"p\", \"hello\", \"world\")"
   ]
  },
  {
   "cell_type": "code",
   "execution_count": 104,
   "metadata": {},
   "outputs": [
    {
     "data": {
      "text/plain": [
       "'<p id=\"33\">hello</p>'"
      ]
     },
     "execution_count": 104,
     "metadata": {},
     "output_type": "execute_result"
    }
   ],
   "source": [
    "tag(\"p\", \"hello\", id=33)"
   ]
  },
  {
   "cell_type": "code",
   "execution_count": 105,
   "metadata": {},
   "outputs": [
    {
     "name": "stdout",
     "output_type": "stream",
     "text": [
      "<p class_=\"sidebar\">hello</p>\n",
      "<p class_=\"sidebar\">world</p>\n"
     ]
    }
   ],
   "source": [
    "print(tag(\"p\", \"hello\", \"world\", class_=\"sidebar\"))"
   ]
  },
  {
   "cell_type": "code",
   "execution_count": 106,
   "metadata": {},
   "outputs": [
    {
     "name": "stdout",
     "output_type": "stream",
     "text": [
      "<p class_=\"sidebar\" id=\"33\">hello</p>\n",
      "<p class_=\"sidebar\" id=\"33\">world</p>\n"
     ]
    }
   ],
   "source": [
    "print(tag(\"p\", \"hello\", \"world\", class_=\"sidebar\", id=33))"
   ]
  },
  {
   "cell_type": "code",
   "execution_count": 107,
   "metadata": {},
   "outputs": [
    {
     "data": {
      "text/plain": [
       "'<img title=\"Sunset Boulevard\" src=\"sunset.jpg\" class=\"framed\"/>'"
      ]
     },
     "execution_count": 107,
     "metadata": {},
     "output_type": "execute_result"
    }
   ],
   "source": [
    "my_tag = {\n",
    "    \"name\": \"img\",\n",
    "    \"title\": \"Sunset Boulevard\",\n",
    "    \"src\": \"sunset.jpg\",\n",
    "    \"_class\": \"framed\",\n",
    "}\n",
    "tag(**my_tag)"
   ]
  },
  {
   "cell_type": "markdown",
   "metadata": {},
   "source": [
    "#### Positional Only Arguments"
   ]
  },
  {
   "cell_type": "code",
   "execution_count": 108,
   "metadata": {},
   "outputs": [],
   "source": [
    "def divmod(a, b, /):\n",
    "    return (a // b, a % b)"
   ]
  },
  {
   "cell_type": "code",
   "execution_count": 109,
   "metadata": {},
   "outputs": [
    {
     "data": {
      "text/plain": [
       "(2, 4)"
      ]
     },
     "execution_count": 109,
     "metadata": {},
     "output_type": "execute_result"
    }
   ],
   "source": [
    "divmod(20, 8)"
   ]
  },
  {
   "cell_type": "code",
   "execution_count": 110,
   "metadata": {},
   "outputs": [
    {
     "ename": "TypeError",
     "evalue": "divmod() got some positional-only arguments passed as keyword arguments: 'a, b'",
     "output_type": "error",
     "traceback": [
      "\u001b[0;31m---------------------------------------------------------------------------\u001b[0m",
      "\u001b[0;31mTypeError\u001b[0m                                 Traceback (most recent call last)",
      "Cell \u001b[0;32mIn[110], line 1\u001b[0m\n\u001b[0;32m----> 1\u001b[0m \u001b[38;5;28;43mdivmod\u001b[39;49m\u001b[43m(\u001b[49m\u001b[43mb\u001b[49m\u001b[38;5;241;43m=\u001b[39;49m\u001b[38;5;241;43m20\u001b[39;49m\u001b[43m,\u001b[49m\u001b[43m \u001b[49m\u001b[43ma\u001b[49m\u001b[38;5;241;43m=\u001b[39;49m\u001b[38;5;241;43m8\u001b[39;49m\u001b[43m)\u001b[49m\n",
      "\u001b[0;31mTypeError\u001b[0m: divmod() got some positional-only arguments passed as keyword arguments: 'a, b'"
     ]
    }
   ],
   "source": [
    "divmod(b=20, a=8)"
   ]
  },
  {
   "cell_type": "code",
   "execution_count": 112,
   "metadata": {},
   "outputs": [],
   "source": [
    "def divmod2(\n",
    "    a,\n",
    "    b,\n",
    "):\n",
    "    return (a // b, a % b)"
   ]
  },
  {
   "cell_type": "code",
   "execution_count": 115,
   "metadata": {},
   "outputs": [
    {
     "data": {
      "text/plain": [
       "(2, 4)"
      ]
     },
     "execution_count": 115,
     "metadata": {},
     "output_type": "execute_result"
    }
   ],
   "source": [
    "divmod2(a=20, b=8)"
   ]
  },
  {
   "cell_type": "code",
   "execution_count": 114,
   "metadata": {},
   "outputs": [
    {
     "data": {
      "text/plain": [
       "(0, 8)"
      ]
     },
     "execution_count": 114,
     "metadata": {},
     "output_type": "execute_result"
    }
   ],
   "source": [
    "divmod2(b=20, a=8)"
   ]
  },
  {
   "cell_type": "markdown",
   "metadata": {},
   "source": [
    "### Packages for Functional Programming\n"
   ]
  },
  {
   "cell_type": "code",
   "execution_count": 2,
   "metadata": {},
   "outputs": [],
   "source": [
    "from functools import reduce\n",
    "\n",
    "\n",
    "def factorial(n):\n",
    "    return reduce(lambda a, b: a * b, range(1, n + 1))"
   ]
  },
  {
   "cell_type": "code",
   "execution_count": 3,
   "metadata": {},
   "outputs": [
    {
     "data": {
      "text/plain": [
       "120"
      ]
     },
     "execution_count": 3,
     "metadata": {},
     "output_type": "execute_result"
    }
   ],
   "source": [
    "factorial(5)"
   ]
  },
  {
   "cell_type": "code",
   "execution_count": 4,
   "metadata": {},
   "outputs": [],
   "source": [
    "from functools import reduce\n",
    "from operator import mul\n",
    "\n",
    "\n",
    "def factorial_with_mul(n):\n",
    "    return reduce(mul, range(1, n + 1))"
   ]
  },
  {
   "cell_type": "code",
   "execution_count": 5,
   "metadata": {},
   "outputs": [
    {
     "data": {
      "text/plain": [
       "120"
      ]
     },
     "execution_count": 5,
     "metadata": {},
     "output_type": "execute_result"
    }
   ],
   "source": [
    "factorial_with_mul(5)"
   ]
  },
  {
   "cell_type": "code",
   "execution_count": 6,
   "metadata": {},
   "outputs": [
    {
     "data": {
      "text/plain": [
       "['banana', 'cherry', 'fig', 'blueberry', 'apple', 'strawberry']"
      ]
     },
     "execution_count": 6,
     "metadata": {},
     "output_type": "execute_result"
    }
   ],
   "source": [
    "from operator import itemgetter\n",
    "\n",
    "fruits = [\"apple\", \"banana\", \"cherry\", \"strawberry\", \"blueberry\", \"fig\"]\n",
    "sorted(fruits, key=itemgetter(1))"
   ]
  },
  {
   "cell_type": "code",
   "execution_count": 7,
   "metadata": {},
   "outputs": [
    {
     "name": "stdout",
     "output_type": "stream",
     "text": [
      "City: São Paulo, Country: BR, Population: 19.649, Coordinates: (-23.547778, -46.635833)\n",
      "City: Delhi NCR, Country: IN, Population: 21.935, Coordinates: (28.613889, 77.208889)\n",
      "City: Tokyo, Country: JP, Population: 36.933, Coordinates: (35.689722, 139.691667)\n",
      "City: Mexico City, Country: MX, Population: 20.142, Coordinates: (19.433333, -99.133333)\n",
      "City: New York-Newark, Country: US, Population: 20.104, Coordinates: (40.808611, -74.020386)\n"
     ]
    }
   ],
   "source": [
    "metro_data = [\n",
    "    (\"Tokyo\", \"JP\", 36.933, (35.689722, 139.691667)),\n",
    "    (\"Delhi NCR\", \"IN\", 21.935, (28.613889, 77.208889)),\n",
    "    (\"Mexico City\", \"MX\", 20.142, (19.433333, -99.133333)),\n",
    "    (\"New York-Newark\", \"US\", 20.104, (40.808611, -74.020386)),\n",
    "    (\"São Paulo\", \"BR\", 19.649, (-23.547778, -46.635833)),\n",
    "]\n",
    "\n",
    "# Sort the list by the country code (second element of each tuple)\n",
    "sorted_data = sorted(metro_data, key=lambda item: item[1])\n",
    "\n",
    "# Print the sorted entries\n",
    "for city, country, population, coordinates in sorted_data:\n",
    "    print(\n",
    "        f\"City: {city}, Country: {country}, Population: {population}, Coordinates: {coordinates}\"\n",
    "    )"
   ]
  },
  {
   "cell_type": "code",
   "execution_count": 9,
   "metadata": {},
   "outputs": [
    {
     "name": "stdout",
     "output_type": "stream",
     "text": [
      "City: São Paulo, Country: BR, Population: 19.649, Coordinates: (-23.547778, -46.635833)\n",
      "City: Delhi NCR, Country: IN, Population: 21.935, Coordinates: (28.613889, 77.208889)\n",
      "City: Tokyo, Country: JP, Population: 36.933, Coordinates: (35.689722, 139.691667)\n",
      "City: Mexico City, Country: MX, Population: 20.142, Coordinates: (19.433333, -99.133333)\n",
      "City: New York-Newark, Country: US, Population: 20.104, Coordinates: (40.808611, -74.020386)\n"
     ]
    }
   ],
   "source": [
    "from operator import itemgetter\n",
    "\n",
    "metro_data = [\n",
    "    (\"Tokyo\", \"JP\", 36.933, (35.689722, 139.691667)),\n",
    "    (\"Delhi NCR\", \"IN\", 21.935, (28.613889, 77.208889)),\n",
    "    (\"Mexico City\", \"MX\", 20.142, (19.433333, -99.133333)),\n",
    "    (\"New York-Newark\", \"US\", 20.104, (40.808611, -74.020386)),\n",
    "    (\"São Paulo\", \"BR\", 19.649, (-23.547778, -46.635833)),\n",
    "]\n",
    "\n",
    "# Sort the list by the country code (second element of each tuple)\n",
    "sorted_data = sorted(metro_data, key=itemgetter(1))\n",
    "\n",
    "# Print the sorted entries\n",
    "for city, country, population, coordinates in sorted_data:\n",
    "    print(\n",
    "        f\"City: {city}, Country: {country}, Population: {population}, Coordinates: {coordinates}\"\n",
    "    )"
   ]
  },
  {
   "cell_type": "code",
   "execution_count": 16,
   "metadata": {},
   "outputs": [],
   "source": [
    "#### Using attrgetter\n",
    "from collections import namedtuple\n",
    "\n",
    "LatLong = namedtuple(\"LatLon\", \"lat long\")\n",
    "Metropolis = namedtuple(\"Metropolis\", \"name cc pop coord\")\n",
    "metro_data = [\n",
    "    (\"Tokyo\", \"JP\", 36.933, (35.689722, 139.691667)),\n",
    "    (\"Delhi NCR\", \"IN\", 21.935, (28.613889, 77.208889)),\n",
    "    (\"Mexico City\", \"MX\", 20.142, (19.433333, -99.133333)),\n",
    "    (\"New York-Newark\", \"US\", 20.104, (40.808611, -74.020386)),\n",
    "    (\"São Paulo\", \"BR\", 19.649, (-23.547778, -46.635833)),\n",
    "]\n",
    "\n",
    "metro_areas = [\n",
    "    Metropolis(name, cc, pop, LatLong(lat, long))\n",
    "    for name, cc, pop, (lat, long) in metro_data\n",
    "]"
   ]
  },
  {
   "cell_type": "code",
   "execution_count": 17,
   "metadata": {},
   "outputs": [
    {
     "data": {
      "text/plain": [
       "[Metropolis(name='Tokyo', cc='JP', pop=36.933, coord=LatLon(lat=35.689722, long=139.691667)),\n",
       " Metropolis(name='Delhi NCR', cc='IN', pop=21.935, coord=LatLon(lat=28.613889, long=77.208889)),\n",
       " Metropolis(name='Mexico City', cc='MX', pop=20.142, coord=LatLon(lat=19.433333, long=-99.133333)),\n",
       " Metropolis(name='New York-Newark', cc='US', pop=20.104, coord=LatLon(lat=40.808611, long=-74.020386)),\n",
       " Metropolis(name='São Paulo', cc='BR', pop=19.649, coord=LatLon(lat=-23.547778, long=-46.635833))]"
      ]
     },
     "execution_count": 17,
     "metadata": {},
     "output_type": "execute_result"
    }
   ],
   "source": [
    "metro_areas"
   ]
  },
  {
   "cell_type": "code",
   "execution_count": 18,
   "metadata": {},
   "outputs": [
    {
     "data": {
      "text/plain": [
       "'the time has come'"
      ]
     },
     "execution_count": 18,
     "metadata": {},
     "output_type": "execute_result"
    }
   ],
   "source": [
    "### methodcaller\n",
    "from operator import methodcaller\n",
    "\n",
    "s = \"The time has come\"\n",
    "lowcase = methodcaller(\"lower\")\n",
    "lowcase(s)"
   ]
  },
  {
   "cell_type": "code",
   "execution_count": 21,
   "metadata": {},
   "outputs": [
    {
     "data": {
      "text/plain": [
       "'The-time-has-come'"
      ]
     },
     "execution_count": 21,
     "metadata": {},
     "output_type": "execute_result"
    }
   ],
   "source": [
    "hypename = methodcaller(\"replace\", \" \", \"-\")\n",
    "hypename(s)"
   ]
  },
  {
   "cell_type": "code",
   "execution_count": 22,
   "metadata": {},
   "outputs": [
    {
     "data": {
      "text/plain": [
       "14"
      ]
     },
     "execution_count": 22,
     "metadata": {},
     "output_type": "execute_result"
    }
   ],
   "source": [
    "### Freezing Arguments with functools.partial\n",
    "from operator import mul\n",
    "from functools import partial\n",
    "\n",
    "double = partial(mul, 2)\n",
    "double(7)"
   ]
  },
  {
   "cell_type": "code",
   "execution_count": 25,
   "metadata": {},
   "outputs": [
    {
     "data": {
      "text/plain": [
       "[0, 2, 4, 6, 8]"
      ]
     },
     "execution_count": 25,
     "metadata": {},
     "output_type": "execute_result"
    }
   ],
   "source": [
    "list(map(double, range(5)))"
   ]
  },
  {
   "cell_type": "code",
   "execution_count": null,
   "metadata": {},
   "outputs": [],
   "source": [
    "### function tags\n",
    "\n",
    "# To be continued..."
   ]
  }
 ],
 "metadata": {
  "kernelspec": {
   "display_name": ".venv",
   "language": "python",
   "name": "python3"
  },
  "language_info": {
   "codemirror_mode": {
    "name": "ipython",
    "version": 3
   },
   "file_extension": ".py",
   "mimetype": "text/x-python",
   "name": "python",
   "nbconvert_exporter": "python",
   "pygments_lexer": "ipython3",
   "version": "3.12.4"
  }
 },
 "nbformat": 4,
 "nbformat_minor": 2
}
