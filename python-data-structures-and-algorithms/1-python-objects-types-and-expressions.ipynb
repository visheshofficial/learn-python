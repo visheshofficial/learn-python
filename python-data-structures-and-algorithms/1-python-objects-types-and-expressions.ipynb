{
 "cells": [
  {
   "cell_type": "markdown",
   "metadata": {},
   "source": [
    "## Python Objects Types and expressions\n"
   ]
  },
  {
   "cell_type": "markdown",
   "metadata": {},
   "source": [
    "#### Variables and expressions\n"
   ]
  },
  {
   "cell_type": "code",
   "execution_count": 1,
   "metadata": {},
   "outputs": [
    {
     "name": "stdout",
     "output_type": "stream",
     "text": [
      "[1, 2, 3, 4]\n"
     ]
    }
   ],
   "source": [
    "# Variables are labels attached to objects; they are not objects themselves.\n",
    "# variables are references to objects in memory\n",
    "a = [1, 2, 3]\n",
    "b = a\n",
    "a.append(4)\n",
    "print(b)"
   ]
  },
  {
   "cell_type": "markdown",
   "metadata": {},
   "source": [
    "#### Dynamic Typing\n"
   ]
  },
  {
   "cell_type": "code",
   "execution_count": 2,
   "metadata": {},
   "outputs": [
    {
     "name": "stdout",
     "output_type": "stream",
     "text": [
      "<class 'int'>\n",
      "<class 'float'>\n",
      "<class 'str'>\n"
     ]
    }
   ],
   "source": [
    "# Python is a dynamically typed language\n",
    "\n",
    "a = 5\n",
    "print(type(a))\n",
    "a += 0.01\n",
    "print(type(a))\n",
    "a = \"hello\"\n",
    "print(type(a))"
   ]
  },
  {
   "cell_type": "markdown",
   "metadata": {},
   "source": [
    "#### Variable scope\n"
   ]
  },
  {
   "cell_type": "code",
   "execution_count": 8,
   "metadata": {},
   "outputs": [
    {
     "name": "stdout",
     "output_type": "stream",
     "text": [
      "before fun\n",
      "5\n",
      "10\n",
      "after fun\n",
      "1\n",
      "10\n"
     ]
    }
   ],
   "source": [
    "a = 5\n",
    "b = 10\n",
    "\n",
    "\n",
    "def fun():\n",
    "    global a\n",
    "    a = 1\n",
    "    b = 2\n",
    "\n",
    "\n",
    "print(\"before fun\")\n",
    "print(a)\n",
    "print(b)\n",
    "\n",
    "fun()\n",
    "print(\"after fun\")\n",
    "print(a)\n",
    "print(b)"
   ]
  },
  {
   "cell_type": "markdown",
   "metadata": {},
   "source": [
    "#### Flow control and iteration\n"
   ]
  },
  {
   "cell_type": "code",
   "execution_count": 9,
   "metadata": {},
   "outputs": [
    {
     "name": "stdout",
     "output_type": "stream",
     "text": [
      "something else\n"
     ]
    }
   ],
   "source": [
    "x = \"two\"\n",
    "\n",
    "if x == 1:\n",
    "    print(\"one\")\n",
    "elif x == 2:\n",
    "    print(\"two\")\n",
    "else:\n",
    "    print(\"something else\")"
   ]
  },
  {
   "cell_type": "code",
   "execution_count": 16,
   "metadata": {},
   "outputs": [
    {
     "name": "stdout",
     "output_type": "stream",
     "text": [
      "1 2 "
     ]
    }
   ],
   "source": [
    "x = 1\n",
    "while x < 3:\n",
    "    print(x, end=\" \")\n",
    "    x += 1"
   ]
  },
  {
   "cell_type": "code",
   "execution_count": 17,
   "metadata": {},
   "outputs": [
    {
     "name": "stdout",
     "output_type": "stream",
     "text": [
      "0 1 2 "
     ]
    }
   ],
   "source": [
    "for x in range(3):\n",
    "    print(x, end=\" \")"
   ]
  },
  {
   "cell_type": "markdown",
   "metadata": {},
   "source": [
    "#### Overview of data types and objects\n",
    "\n",
    "12 built-in data types.\n",
    "numeric types: int, float, complex, bool\n",
    "sequence types: str, list, tuple, range\n",
    "mapping types: dict\n",
    "set types: set, frozenset\n",
    "\n",
    "Each object has an identity, a type, and a value.\n",
    "hello = \"world\"\n",
    "hello is the identity of the object\n",
    "str is the type of the object\n",
    "\"world\" is the value of the object\n",
    "\n",
    "Once an object is created, its identity and type never changes.\n"
   ]
  },
  {
   "cell_type": "code",
   "execution_count": 19,
   "metadata": {},
   "outputs": [
    {
     "data": {
      "text/plain": [
       "'world'"
      ]
     },
     "execution_count": 19,
     "metadata": {},
     "output_type": "execute_result"
    }
   ],
   "source": [
    "hello = \"world\"\n",
    "id(hello)  # returns the memory address of the object\n",
    "type(hello)  # returns the type of the object\n",
    "hello  # returns the value of the object"
   ]
  },
  {
   "cell_type": "code",
   "execution_count": 3,
   "metadata": {},
   "outputs": [
    {
     "data": {
      "text/plain": [
       "True"
      ]
     },
     "execution_count": 3,
     "metadata": {},
     "output_type": "execute_result"
    }
   ],
   "source": [
    "a = 1\n",
    "b = 2\n",
    "a == b  # checks if a and b are the same value\n",
    "a is b  # checks if a and b have the same object\n",
    "type(a) == type(b)  # checks if a and b are the same type"
   ]
  },
  {
   "cell_type": "markdown",
   "metadata": {},
   "source": [
    "Mutable objects can have their values changed after they are created.\n",
    "Immutable objects cannot have their values changed after they are created.\n"
   ]
  },
  {
   "cell_type": "markdown",
   "metadata": {},
   "source": [
    "#### Strings\n",
    "\n",
    "- immutable\n",
    "- sequence type\n"
   ]
  },
  {
   "cell_type": "code",
   "execution_count": 27,
   "metadata": {},
   "outputs": [
    {
     "name": "stdout",
     "output_type": "stream",
     "text": [
      "2\n",
      "2\n",
      "hello   world\n",
      "6\n",
      "-1\n"
     ]
    }
   ],
   "source": [
    "#### commonly used  string methods\n",
    "greet1 = \"hello\"\n",
    "greet2 = \"hello world\"\n",
    "\n",
    "# count\n",
    "print(greet1.count(\"l\"))\n",
    "print(greet2.count(\"l\", 3))"
   ]
  },
  {
   "cell_type": "code",
   "execution_count": null,
   "metadata": {},
   "outputs": [],
   "source": [
    "# expandtabs\n",
    "print(\"hello\\tworld\".expandtabs(4))"
   ]
  },
  {
   "cell_type": "code",
   "execution_count": null,
   "metadata": {},
   "outputs": [],
   "source": [
    "# find\n",
    "print(greet2.find(\"world\"))\n",
    "print(greet2.find(\"world\", 7))"
   ]
  },
  {
   "cell_type": "code",
   "execution_count": 30,
   "metadata": {},
   "outputs": [
    {
     "name": "stdout",
     "output_type": "stream",
     "text": [
      "True\n",
      "True\n",
      "True\n",
      "False\n"
     ]
    }
   ],
   "source": [
    "# isalnum\n",
    "print(\"hello\".isalnum())\n",
    "print(\"hello123\".isalnum())\n",
    "print(\"123\".isalnum())\n",
    "print(\"dfdf!\".isalnum())"
   ]
  },
  {
   "cell_type": "code",
   "execution_count": 31,
   "metadata": {},
   "outputs": [
    {
     "name": "stdout",
     "output_type": "stream",
     "text": [
      "True\n",
      "False\n"
     ]
    }
   ],
   "source": [
    "# isdigit\n",
    "print(\"123\".isdigit())\n",
    "print(\"123.0\".isdigit())"
   ]
  },
  {
   "cell_type": "code",
   "execution_count": 32,
   "metadata": {},
   "outputs": [
    {
     "name": "stdout",
     "output_type": "stream",
     "text": [
      "hello world\n",
      "helloworld\n"
     ]
    }
   ],
   "source": [
    "# join\n",
    "print(\" \".join([\"hello\", \"world\"]))\n",
    "print(\"\".join([\"hello\", \"world\"]))"
   ]
  },
  {
   "cell_type": "code",
   "execution_count": 33,
   "metadata": {},
   "outputs": [
    {
     "name": "stdout",
     "output_type": "stream",
     "text": [
      "hello\n",
      "HELLO\n"
     ]
    }
   ],
   "source": [
    "# lower\n",
    "print(\"HELLO\".lower())\n",
    "\n",
    "# upper\n",
    "print(\"hello\".upper())"
   ]
  },
  {
   "cell_type": "code",
   "execution_count": 34,
   "metadata": {},
   "outputs": [
    {
     "name": "stdout",
     "output_type": "stream",
     "text": [
      "hello python\n"
     ]
    }
   ],
   "source": [
    "# replace\n",
    "print(\"hello world\".replace(\"world\", \"python\"))"
   ]
  },
  {
   "cell_type": "code",
   "execution_count": 35,
   "metadata": {},
   "outputs": [
    {
     "name": "stdout",
     "output_type": "stream",
     "text": [
      "hello world\n",
      "hello world \n",
      " hello world\n"
     ]
    }
   ],
   "source": [
    "# strip\n",
    "print(\" hello world \".strip())\n",
    "print(\" hello world \".lstrip())\n",
    "print(\" hello world \".rstrip())"
   ]
  },
  {
   "cell_type": "code",
   "execution_count": 38,
   "metadata": {},
   "outputs": [
    {
     "name": "stdout",
     "output_type": "stream",
     "text": [
      "hello\n",
      "orld\n"
     ]
    }
   ],
   "source": [
    "# slicing\n",
    "print(\"helloworld\"[0:5])\n",
    "print(\"helloworld\"[6:])"
   ]
  },
  {
   "cell_type": "code",
   "execution_count": 44,
   "metadata": {},
   "outputs": [
    {
     "name": "stdout",
     "output_type": "stream",
     "text": [
      "(0, 'h')\n",
      "(1, 'e')\n",
      "(2, 'l')\n",
      "(3, 'l')\n",
      "(4, 'o')\n"
     ]
    }
   ],
   "source": [
    "# enumerate\n",
    "for x in enumerate(\"hello\"):\n",
    "    print(x)"
   ]
  },
  {
   "cell_type": "code",
   "execution_count": 48,
   "metadata": {},
   "outputs": [
    {
     "data": {
      "text/plain": [
       "'hello awesome world'"
      ]
     },
     "execution_count": 48,
     "metadata": {},
     "output_type": "execute_result"
    }
   ],
   "source": [
    "string = \"hello world\"\n",
    "string[:5] + \" awesome\" + string[5:]"
   ]
  },
  {
   "cell_type": "markdown",
   "metadata": {},
   "source": [
    "#### Lists\n",
    "\n",
    "- mutable\n",
    "- sequence type\n",
    "\n",
    "Common list methods:\n"
   ]
  },
  {
   "cell_type": "code",
   "execution_count": 50,
   "metadata": {},
   "outputs": [
    {
     "data": {
      "text/plain": [
       "[0, 1, 2, 3, 4]"
      ]
     },
     "execution_count": 50,
     "metadata": {},
     "output_type": "execute_result"
    }
   ],
   "source": [
    "# list\n",
    "list(range(5))"
   ]
  },
  {
   "cell_type": "code",
   "execution_count": 53,
   "metadata": {},
   "outputs": [
    {
     "data": {
      "text/plain": [
       "['h', 'e', 'l', 'l', 'o']"
      ]
     },
     "execution_count": 53,
     "metadata": {},
     "output_type": "execute_result"
    }
   ],
   "source": [
    "list(\"hello\")"
   ]
  },
  {
   "cell_type": "code",
   "execution_count": 54,
   "metadata": {},
   "outputs": [
    {
     "data": {
      "text/plain": [
       "[(0, 'h'), (1, 'e'), (2, 'l'), (3, 'l'), (4, 'o')]"
      ]
     },
     "execution_count": 54,
     "metadata": {},
     "output_type": "execute_result"
    }
   ],
   "source": [
    "list(enumerate(\"hello\"))"
   ]
  },
  {
   "cell_type": "code",
   "execution_count": 55,
   "metadata": {},
   "outputs": [
    {
     "data": {
      "text/plain": [
       "[1, 2, 3, 4]"
      ]
     },
     "execution_count": 55,
     "metadata": {},
     "output_type": "execute_result"
    }
   ],
   "source": [
    "# append\n",
    "a = [1, 2, 3]\n",
    "a.append(4)\n",
    "a"
   ]
  },
  {
   "cell_type": "code",
   "execution_count": 57,
   "metadata": {},
   "outputs": [
    {
     "data": {
      "text/plain": [
       "[1, 2, 3, 4, 5, 6]"
      ]
     },
     "execution_count": 57,
     "metadata": {},
     "output_type": "execute_result"
    }
   ],
   "source": [
    "# extend\n",
    "a = [1, 2, 3]\n",
    "a.extend([4, 5, 6])\n",
    "a"
   ]
  },
  {
   "cell_type": "code",
   "execution_count": 58,
   "metadata": {},
   "outputs": [
    {
     "data": {
      "text/plain": [
       "2"
      ]
     },
     "execution_count": 58,
     "metadata": {},
     "output_type": "execute_result"
    }
   ],
   "source": [
    "# count\n",
    "a = [1, 2, 3, 4, 5, 1, 2, 3]\n",
    "a.count(1)"
   ]
  },
  {
   "cell_type": "code",
   "execution_count": 59,
   "metadata": {},
   "outputs": [
    {
     "data": {
      "text/plain": [
       "2"
      ]
     },
     "execution_count": 59,
     "metadata": {},
     "output_type": "execute_result"
    }
   ],
   "source": [
    "# index\n",
    "a = [1, 2, 3, 4, 5, 1, 2, 3]\n",
    "a.index(3)"
   ]
  },
  {
   "cell_type": "code",
   "execution_count": 61,
   "metadata": {},
   "outputs": [
    {
     "data": {
      "text/plain": [
       "5"
      ]
     },
     "execution_count": 61,
     "metadata": {},
     "output_type": "execute_result"
    }
   ],
   "source": [
    "# index with start and end\n",
    "a = [1, 2, 3, 4, 5, 1, 2, 3]\n",
    "a.index(1, 4, 7)"
   ]
  },
  {
   "cell_type": "code",
   "execution_count": 62,
   "metadata": {},
   "outputs": [
    {
     "ename": "ValueError",
     "evalue": "3 is not in list",
     "output_type": "error",
     "traceback": [
      "\u001b[0;31m---------------------------------------------------------------------------\u001b[0m",
      "\u001b[0;31mValueError\u001b[0m                                Traceback (most recent call last)",
      "Cell \u001b[0;32mIn[62], line 3\u001b[0m\n\u001b[1;32m      1\u001b[0m \u001b[38;5;66;03m# index with start and end\u001b[39;00m\n\u001b[1;32m      2\u001b[0m a \u001b[38;5;241m=\u001b[39m [\u001b[38;5;241m1\u001b[39m, \u001b[38;5;241m2\u001b[39m, \u001b[38;5;241m3\u001b[39m, \u001b[38;5;241m4\u001b[39m, \u001b[38;5;241m5\u001b[39m, \u001b[38;5;241m1\u001b[39m, \u001b[38;5;241m2\u001b[39m, \u001b[38;5;241m3\u001b[39m]\n\u001b[0;32m----> 3\u001b[0m \u001b[43ma\u001b[49m\u001b[38;5;241;43m.\u001b[39;49m\u001b[43mindex\u001b[49m\u001b[43m(\u001b[49m\u001b[38;5;241;43m3\u001b[39;49m\u001b[43m,\u001b[49m\u001b[43m \u001b[49m\u001b[38;5;241;43m4\u001b[39;49m\u001b[43m,\u001b[49m\u001b[43m \u001b[49m\u001b[38;5;241;43m7\u001b[39;49m\u001b[43m)\u001b[49m\n",
      "\u001b[0;31mValueError\u001b[0m: 3 is not in list"
     ]
    }
   ],
   "source": [
    "# index with start and end\n",
    "a = [1, 2, 3, 4, 5, 1, 2, 3]\n",
    "a.index(3, 4, 7)"
   ]
  },
  {
   "cell_type": "markdown",
   "metadata": {},
   "source": []
  },
  {
   "cell_type": "code",
   "execution_count": 4,
   "metadata": {},
   "outputs": [
    {
     "name": "stdout",
     "output_type": "stream",
     "text": [
      "[1, 2, 3]\n",
      "[1, 2, 3]\n",
      "[1, 4, 3]\n",
      "[1, 4, 3]\n"
     ]
    }
   ],
   "source": [
    "x, y, z = 1, 2, 3\n",
    "list1 = [x, y, z]\n",
    "print(list1)\n",
    "list2 = list1\n",
    "print(list2)\n",
    "list1[1] = 4\n",
    "print(list1)\n",
    "print(list2)"
   ]
  },
  {
   "cell_type": "code",
   "execution_count": 5,
   "metadata": {},
   "outputs": [
    {
     "data": {
      "text/plain": [
       "[1, 4, 9, 16, 25]"
      ]
     },
     "execution_count": 5,
     "metadata": {},
     "output_type": "execute_result"
    }
   ],
   "source": [
    "# list comprehension\n",
    "a = [1, 2, 3, 4, 5]\n",
    "\n",
    "\n",
    "def square(x):\n",
    "    return x**2\n",
    "\n",
    "\n",
    "[square(x) for x in a]"
   ]
  },
  {
   "cell_type": "code",
   "execution_count": 6,
   "metadata": {},
   "outputs": [
    {
     "data": {
      "text/plain": [
       "[1, 16, 81, 256, 625]"
      ]
     },
     "execution_count": 6,
     "metadata": {},
     "output_type": "execute_result"
    }
   ],
   "source": [
    "[square(square(x)) for x in a]"
   ]
  },
  {
   "cell_type": "code",
   "execution_count": 8,
   "metadata": {},
   "outputs": [
    {
     "data": {
      "text/plain": [
       "[4, 40, 400, 5, 50, 500, 6, 60, 600]"
      ]
     },
     "execution_count": 8,
     "metadata": {},
     "output_type": "execute_result"
    }
   ],
   "source": [
    "list1 = [4, 5, 6]\n",
    "list2 = [1, 10, 100]\n",
    "[x * y for x in list1 for y in list2]"
   ]
  },
  {
   "cell_type": "code",
   "execution_count": 9,
   "metadata": {},
   "outputs": [
    {
     "data": {
      "text/plain": [
       "[['hello', 5], ['world', 5], ['python', 6]]"
      ]
     },
     "execution_count": 9,
     "metadata": {},
     "output_type": "execute_result"
    }
   ],
   "source": [
    "words = [\"hello\", \"world\", \"python\"]\n",
    "[[word, len(word)] for word in words]"
   ]
  },
  {
   "cell_type": "markdown",
   "metadata": {},
   "source": [
    "### Functions as first class objects\n"
   ]
  },
  {
   "cell_type": "markdown",
   "metadata": {},
   "source": [
    "functions are first class objects\n",
    "\n",
    "- can be passed as arguments to other functions\n",
    "- can be returned as values from other functions\n",
    "- can be assigned to variables\n",
    "- can be stored in data structures\n"
   ]
  },
  {
   "cell_type": "code",
   "execution_count": 10,
   "metadata": {},
   "outputs": [
    {
     "name": "stdout",
     "output_type": "stream",
     "text": [
      "Good morning\n"
     ]
    }
   ],
   "source": [
    "def greeting(time):\n",
    "    if time < 12:\n",
    "        return \"Good morning\"\n",
    "    elif time < 17:\n",
    "        return \"Good afternoon\"\n",
    "    else:\n",
    "        return \"Good evening\"\n",
    "\n",
    "\n",
    "print(greeting(10))"
   ]
  },
  {
   "cell_type": "code",
   "execution_count": 12,
   "metadata": {},
   "outputs": [
    {
     "data": {
      "text/plain": [
       "'Good morning'"
      ]
     },
     "execution_count": 12,
     "metadata": {},
     "output_type": "execute_result"
    }
   ],
   "source": [
    "def call_morning(time_function):\n",
    "    return time_function(10)\n",
    "\n",
    "\n",
    "call_morning(greeting)"
   ]
  },
  {
   "cell_type": "markdown",
   "metadata": {},
   "source": [
    "#### Higher order functions\n"
   ]
  },
  {
   "cell_type": "markdown",
   "metadata": {},
   "source": [
    "- functions that take other functions as arguments\n",
    "- functions that return functions as values\n",
    "- map, filter, reduce are built-in higher order functions\n"
   ]
  },
  {
   "cell_type": "code",
   "execution_count": 15,
   "metadata": {},
   "outputs": [
    {
     "data": {
      "text/plain": [
       "[1, 4, 9, 16, 25]"
      ]
     },
     "execution_count": 15,
     "metadata": {},
     "output_type": "execute_result"
    }
   ],
   "source": [
    "list1 = [1, 2, 3, 4, 5]\n",
    "\n",
    "\n",
    "def square(x):\n",
    "    return x**2\n",
    "\n",
    "\n",
    "result = map(square, list1)\n",
    "list(result)"
   ]
  },
  {
   "cell_type": "code",
   "execution_count": 16,
   "metadata": {},
   "outputs": [
    {
     "data": {
      "text/plain": [
       "[2, 4]"
      ]
     },
     "execution_count": 16,
     "metadata": {},
     "output_type": "execute_result"
    }
   ],
   "source": [
    "def is_even(x):\n",
    "    return x % 2 == 0\n",
    "\n",
    "\n",
    "list(filter(is_even, list1))"
   ]
  },
  {
   "cell_type": "code",
   "execution_count": 18,
   "metadata": {},
   "outputs": [
    {
     "data": {
      "text/plain": [
       "['python', 'hello', 'world']"
      ]
     },
     "execution_count": 18,
     "metadata": {},
     "output_type": "execute_result"
    }
   ],
   "source": [
    "words = [\"hello\", \"world\", \"python\"]\n",
    "sorted(words, key=len, reverse=True)"
   ]
  },
  {
   "cell_type": "code",
   "execution_count": 19,
   "metadata": {},
   "outputs": [
    {
     "data": {
      "text/plain": [
       "['a', 'is', 'sentence', 'This', 'with', 'words']"
      ]
     },
     "execution_count": 19,
     "metadata": {},
     "output_type": "execute_result"
    }
   ],
   "source": [
    "words = \" This is a sentence with words \".split()\n",
    "sorted(words, key=str.lower)"
   ]
  },
  {
   "cell_type": "code",
   "execution_count": 21,
   "metadata": {},
   "outputs": [
    {
     "data": {
      "text/plain": [
       "['hello', 'python', 'world']"
      ]
     },
     "execution_count": 21,
     "metadata": {},
     "output_type": "execute_result"
    }
   ],
   "source": [
    "words = [\"hello\", \"world\", \"python\"]\n",
    "words.sort()  # in-place sorting\n",
    "words"
   ]
  },
  {
   "cell_type": "code",
   "execution_count": 25,
   "metadata": {},
   "outputs": [
    {
     "name": "stdout",
     "output_type": "stream",
     "text": [
      "[{'name': 'John', 'salary': 50000}, {'name': 'Alice', 'salary': 60000}, {'name': 'Bob', 'salary': 70000}]\n",
      "[{'name': 'Alice', 'salary': 60000}, {'name': 'Bob', 'salary': 70000}, {'name': 'John', 'salary': 50000}]\n"
     ]
    }
   ],
   "source": [
    "# sorting complex objects\n",
    "employees = [\n",
    "    {\"name\": \"John\", \"salary\": 50000},\n",
    "    {\"name\": \"Alice\", \"salary\": 60000},\n",
    "    {\"name\": \"Bob\", \"salary\": 70000},\n",
    "]\n",
    "print(employees)\n",
    "employees.sort(key=lambda x: x[\"salary\"])\n",
    "\n",
    "print(sorted(employees, key=lambda x: x[\"name\"]))  # sort by name"
   ]
  },
  {
   "cell_type": "markdown",
   "metadata": {},
   "source": [
    "#### Recursive functions\n"
   ]
  },
  {
   "cell_type": "code",
   "execution_count": 26,
   "metadata": {},
   "outputs": [
    {
     "name": "stdout",
     "output_type": "stream",
     "text": [
      "1\n",
      "2\n",
      "3\n",
      "4\n",
      "5\n"
     ]
    }
   ],
   "source": [
    "#\n",
    "def iteration_test(low, high):\n",
    "    while low <= high:\n",
    "        print(low)\n",
    "        low += 1\n",
    "\n",
    "\n",
    "iteration_test(1, 5)"
   ]
  },
  {
   "cell_type": "code",
   "execution_count": 27,
   "metadata": {},
   "outputs": [
    {
     "name": "stdout",
     "output_type": "stream",
     "text": [
      "1\n",
      "2\n",
      "3\n",
      "4\n",
      "5\n"
     ]
    }
   ],
   "source": [
    "def recursion_test(low, high):\n",
    "    if low <= high:\n",
    "        print(low)\n",
    "        recursion_test(low + 1, high)\n",
    "\n",
    "\n",
    "recursion_test(1, 5)"
   ]
  },
  {
   "cell_type": "markdown",
   "metadata": {},
   "source": [
    "#### Generators and coroutines\n"
   ]
  },
  {
   "cell_type": "markdown",
   "metadata": {},
   "source": [
    "- generators are functions that can be paused and resumed\n"
   ]
  },
  {
   "cell_type": "code",
   "execution_count": 43,
   "metadata": {},
   "outputs": [
    {
     "name": "stdout",
     "output_type": "stream",
     "text": [
      "Time to get sum 4999950000 an built list: 0.003529\n"
     ]
    }
   ],
   "source": [
    "def ten():\n",
    "    li = []\n",
    "    for i in range(1, 100000):\n",
    "        li.append(i)\n",
    "    return li\n",
    "\n",
    "\n",
    "def ten_yield():\n",
    "    for i in range(1, 100000):\n",
    "        yield i\n",
    "\n",
    "\n",
    "import time\n",
    "\n",
    "t1 = time.time()\n",
    "result = sum(ten())\n",
    "print(\"Time to get sum \" + str(result) + \" an built list: %f\" % (time.time() - t1))"
   ]
  },
  {
   "cell_type": "code",
   "execution_count": 44,
   "metadata": {},
   "outputs": [
    {
     "name": "stdout",
     "output_type": "stream",
     "text": [
      "Time to get sum 4999950000generator list: 0.006519\n"
     ]
    }
   ],
   "source": [
    "import time\n",
    "\n",
    "t1 = time.time()\n",
    "result = sum(ten_yield())\n",
    "print(\"Time to get sum \" + str(result) + \"generator list: %f\" % (time.time() - t1))"
   ]
  },
  {
   "cell_type": "markdown",
   "metadata": {},
   "source": [
    "#### Classes and object programming\n"
   ]
  },
  {
   "cell_type": "markdown",
   "metadata": {},
   "source": [
    "- classes are blueprints for creating objects\n",
    "- objects are instances of classes\n",
    "- classes have attributes and methods and properties\n"
   ]
  },
  {
   "cell_type": "code",
   "execution_count": 48,
   "metadata": {},
   "outputs": [],
   "source": [
    "class Employee:\n",
    "    employee_count = 0\n",
    "\n",
    "    def __init__(self, name, department, work_rate):\n",
    "        self.owed = 0\n",
    "        self.name = name\n",
    "        self.department = department\n",
    "        self.work_rate = work_rate\n",
    "        Employee.employee_count += 1\n",
    "\n",
    "    def __del__(self):\n",
    "        Employee.employee_count -= 1\n",
    "\n",
    "    def add_hours(self, num_hours):\n",
    "        self.owed += self.work_rate * num_hours\n",
    "        return f\"{num_hours} hours logged\"\n",
    "\n",
    "    def pay(self):\n",
    "        self.owed = 0\n",
    "        return f\"payed {self.name} \""
   ]
  },
  {
   "cell_type": "code",
   "execution_count": 50,
   "metadata": {},
   "outputs": [
    {
     "name": "stdout",
     "output_type": "stream",
     "text": [
      "10 hours logged\n",
      "payed John \n"
     ]
    },
    {
     "data": {
      "text/plain": [
       "4"
      ]
     },
     "execution_count": 50,
     "metadata": {},
     "output_type": "execute_result"
    }
   ],
   "source": [
    "e1 = Employee(\"John\", \"HR\", 10)\n",
    "e2 = Employee(\"Alice\", \"Engineering\", 15)\n",
    "print(e1.add_hours(10))\n",
    "print(e1.pay())\n",
    "Employee.employee_count"
   ]
  },
  {
   "cell_type": "markdown",
   "metadata": {},
   "source": [
    "#### Special methods\n"
   ]
  },
  {
   "cell_type": "code",
   "execution_count": 51,
   "metadata": {},
   "outputs": [],
   "source": [
    "class Employee:\n",
    "    employee_count = 0\n",
    "\n",
    "    def __init__(self, name, department, work_rate):\n",
    "        self.owed = 0\n",
    "        self.name = name\n",
    "        self.department = department\n",
    "        self.work_rate = work_rate\n",
    "        Employee.employee_count += 1\n",
    "\n",
    "    def __del__(self):\n",
    "        Employee.employee_count -= 1\n",
    "\n",
    "    def add_hours(self, num_hours):\n",
    "        self.owed += self.work_rate * num_hours\n",
    "        return f\"{num_hours} hours logged\"\n",
    "\n",
    "    def pay(self):\n",
    "        self.owed = 0\n",
    "        return f\"payed {self.name} \""
   ]
  },
  {
   "cell_type": "code",
   "execution_count": 52,
   "metadata": {},
   "outputs": [
    {
     "data": {
      "text/plain": [
       "['__class__',\n",
       " '__del__',\n",
       " '__delattr__',\n",
       " '__dict__',\n",
       " '__dir__',\n",
       " '__doc__',\n",
       " '__eq__',\n",
       " '__format__',\n",
       " '__ge__',\n",
       " '__getattribute__',\n",
       " '__getstate__',\n",
       " '__gt__',\n",
       " '__hash__',\n",
       " '__init__',\n",
       " '__init_subclass__',\n",
       " '__le__',\n",
       " '__lt__',\n",
       " '__module__',\n",
       " '__ne__',\n",
       " '__new__',\n",
       " '__reduce__',\n",
       " '__reduce_ex__',\n",
       " '__repr__',\n",
       " '__setattr__',\n",
       " '__sizeof__',\n",
       " '__str__',\n",
       " '__subclasshook__',\n",
       " '__weakref__',\n",
       " 'add_hours',\n",
       " 'employee_count',\n",
       " 'pay']"
      ]
     },
     "execution_count": 52,
     "metadata": {},
     "output_type": "execute_result"
    }
   ],
   "source": [
    "dir(Employee)"
   ]
  },
  {
   "cell_type": "code",
   "execution_count": 60,
   "metadata": {},
   "outputs": [],
   "source": [
    "class Car:\n",
    "    def __init__(self, make, model, year):\n",
    "        self.make = make\n",
    "        self.model = model\n",
    "        self.year = year\n",
    "\n",
    "    def __repr__(self):\n",
    "        return f\"{self.make} {self.model} {self.year}\""
   ]
  },
  {
   "cell_type": "code",
   "execution_count": 61,
   "metadata": {},
   "outputs": [
    {
     "name": "stdout",
     "output_type": "stream",
     "text": [
      "Toyota Corolla 2015\n",
      "Toyota Corolla 2015\n"
     ]
    }
   ],
   "source": [
    "c1 = Car(\"Toyota\", \"Corolla\", 2015)\n",
    "print(c1)\n",
    "print(str(c1))"
   ]
  },
  {
   "cell_type": "markdown",
   "metadata": {},
   "source": [
    "#### Inheritance and polymorphism\n"
   ]
  },
  {
   "cell_type": "code",
   "execution_count": 63,
   "metadata": {},
   "outputs": [],
   "source": [
    "class Car:\n",
    "    def __init__(self, make, model, year):\n",
    "        self.make = make\n",
    "        self.model = model\n",
    "        self.year = year\n",
    "\n",
    "    def __repr__(self):\n",
    "        return f\"{self.make} {self.model} {self.year}\"\n",
    "\n",
    "\n",
    "class ElectricCar(Car):\n",
    "    def __init__(self, make, model, year, range):\n",
    "        super().__init__(make, model, year)\n",
    "        self.range = range\n",
    "\n",
    "    def __repr__(self):\n",
    "        return f\"{self.make} {self.model} {self.year} {self.range} miles\""
   ]
  },
  {
   "cell_type": "code",
   "execution_count": 65,
   "metadata": {},
   "outputs": [
    {
     "data": {
      "text/plain": [
       "Tesla Model S 2019 300 miles"
      ]
     },
     "execution_count": 65,
     "metadata": {},
     "output_type": "execute_result"
    }
   ],
   "source": [
    "ec = ElectricCar(\"Tesla\", \"Model S\", 2019, 300)\n",
    "ec"
   ]
  },
  {
   "cell_type": "markdown",
   "metadata": {},
   "source": [
    "#### Static methods\n"
   ]
  },
  {
   "cell_type": "code",
   "execution_count": 67,
   "metadata": {},
   "outputs": [
    {
     "name": "stdout",
     "output_type": "stream",
     "text": [
      "15\n"
     ]
    }
   ],
   "source": [
    "class MathUtils:\n",
    "    @staticmethod\n",
    "    def add_numbers(a, b):\n",
    "        return a + b\n",
    "\n",
    "\n",
    "# Calling the static method without creating an instance of the class\n",
    "result = MathUtils.add_numbers(5, 10)\n",
    "print(result)  # Output: 15"
   ]
  },
  {
   "cell_type": "code",
   "execution_count": 70,
   "metadata": {},
   "outputs": [
    {
     "name": "stdout",
     "output_type": "stream",
     "text": [
      "15\n",
      "45\n"
     ]
    }
   ],
   "source": [
    "class MathUtils:\n",
    "    @staticmethod\n",
    "    def add_numbers(a, b):\n",
    "        return a + b\n",
    "\n",
    "\n",
    "class AdvancedMathUtils(MathUtils):\n",
    "    @staticmethod\n",
    "    def subtract_numbers(a, b):\n",
    "        return a - b\n",
    "\n",
    "\n",
    "# Calling the static method without creating an instance of the class\n",
    "result = AdvancedMathUtils.add_numbers(5, 10)\n",
    "print(result)  # Output: 15\n",
    "\n",
    "result = AdvancedMathUtils.subtract_numbers(55, 10)\n",
    "print(result)  # Output: 45"
   ]
  },
  {
   "cell_type": "markdown",
   "metadata": {},
   "source": [
    "## Collections\n"
   ]
  },
  {
   "cell_type": "code",
   "execution_count": 77,
   "metadata": {},
   "outputs": [
    {
     "data": {
      "text/plain": [
       "Point(x=10, y=20)"
      ]
     },
     "execution_count": 77,
     "metadata": {},
     "output_type": "execute_result"
    }
   ],
   "source": [
    "# namedtuple\n",
    "from collections import namedtuple\n",
    "\n",
    "P = namedtuple(\"Point\", [\"x\", \"y\"])\n",
    "p1 = P(10, 20)\n",
    "p1"
   ]
  },
  {
   "cell_type": "code",
   "execution_count": 2,
   "metadata": {},
   "outputs": [
    {
     "name": "stdout",
     "output_type": "stream",
     "text": [
      "deque([1, 2, 3])\n",
      "deque([2])\n",
      "deque([5, 1, 2, 3, 4])\n",
      "deque([1, 2, 3, 4, 5])\n"
     ]
    }
   ],
   "source": [
    "# deque\n",
    "from collections import deque\n",
    "\n",
    "# Create a deque object\n",
    "d = deque()\n",
    "\n",
    "# Add elements to the deque\n",
    "d.append(1)\n",
    "d.append(2)\n",
    "d.append(3)\n",
    "\n",
    "# Print the deque\n",
    "print(d)  # Output: deque([1, 2, 3])\n",
    "\n",
    "# Remove elements from the deque\n",
    "d.popleft()\n",
    "d.pop()\n",
    "\n",
    "# Print the deque after removal\n",
    "print(d)  # Output: deque([2])\n",
    "\n",
    "# roate\n",
    "d = deque([1, 2, 3, 4, 5])\n",
    "d.rotate(1)  # Right rotation\n",
    "print(d)  # Output: deque([5, 1, 2, 3, 4])\n",
    "\n",
    "# Left rotation\n",
    "d.rotate(-1)\n",
    "print(d)  # Output: deque([1, 2, 3, 4, 5])"
   ]
  },
  {
   "cell_type": "code",
   "execution_count": 88,
   "metadata": {},
   "outputs": [
    {
     "name": "stdout",
     "output_type": "stream",
     "text": [
      "1\n",
      "3\n",
      "2\n",
      "4\n",
      "None\n",
      "10\n",
      "5\n",
      "None\n"
     ]
    },
    {
     "data": {
      "text/plain": [
       "ChainMap({'a': 10, 'e': 5}, {'c': 3, 'd': 4})"
      ]
     },
     "execution_count": 88,
     "metadata": {},
     "output_type": "execute_result"
    }
   ],
   "source": [
    "# chainmap\n",
    "# - A ChainMap is a class that provides the ability to link multiple mappings together such that they end up being a single unit.\n",
    "# - If you have two dictionaries and you wish to create a single dictionary from them, you can use the ChainMap class.\n",
    "# - The ChainMap class allows you to access the keys and values from multiple dictionaries as a single dictionary.\n",
    "# - If the same key appears in multiple dictionaries, the value from the first dictionary is used.\n",
    "\n",
    "from collections import ChainMap\n",
    "\n",
    "# Create two dictionaries\n",
    "dict1 = {\"a\": 1, \"b\": 2}\n",
    "dict2 = {\"c\": 3, \"d\": 4}\n",
    "\n",
    "# Create a chainmap with the dictionaries\n",
    "chain_map = ChainMap(dict1, dict2)\n",
    "\n",
    "# Accessing values using keys\n",
    "print(chain_map[\"a\"])  # Output: 1\n",
    "print(chain_map[\"c\"])  # Output: 3\n",
    "\n",
    "# Accessing values using get() method\n",
    "print(chain_map.get(\"b\"))  # Output: 2\n",
    "print(chain_map.get(\"d\"))  # Output: 4\n",
    "\n",
    "# Accessing values using keys that don't exist\n",
    "print(chain_map.get(\"e\"))  # Output: None\n",
    "\n",
    "# Updating values\n",
    "chain_map[\"a\"] = 10\n",
    "print(chain_map[\"a\"])  # Output: 10\n",
    "\n",
    "# Adding a new key-value pair\n",
    "chain_map[\"e\"] = 5\n",
    "print(chain_map[\"e\"])  # Output: 5\n",
    "\n",
    "# Deleting a key-value pair\n",
    "del chain_map[\"b\"]\n",
    "print(chain_map.get(\"b\"))  # Output: None\n",
    "chain_map"
   ]
  },
  {
   "cell_type": "code",
   "execution_count": 5,
   "metadata": {},
   "outputs": [
    {
     "name": "stdout",
     "output_type": "stream",
     "text": [
      "False\n",
      "debug\n",
      "8080\n"
     ]
    }
   ],
   "source": [
    "from collections import ChainMap\n",
    "\n",
    "# Define the configuration dictionaries\n",
    "default_config = {\"debug\": False, \"log_level\": \"info\", \"port\": 8080}\n",
    "\n",
    "user_config = {\"log_level\": \"debug\"}\n",
    "app_config = {\"port\": 8080}\n",
    "\n",
    "# Create the chain of dictionaries\n",
    "config = ChainMap(user_config, app_config, default_config)\n",
    "\n",
    "# Access the configuration settings\n",
    "print(config[\"debug\"])  # Output: False\n",
    "print(config[\"log_level\"])  # Output: \"debug\"\n",
    "print(config[\"port\"])  # Output: 8080\n",
    "\n",
    "config[\"d\"]"
   ]
  },
  {
   "cell_type": "code",
   "execution_count": 8,
   "metadata": {},
   "outputs": [
    {
     "name": "stdout",
     "output_type": "stream",
     "text": [
      "3\n",
      "2\n",
      "1\n",
      "dict_items([('apple', 3), ('banana', 2), ('orange', 1)])\n",
      "apple: 3\n",
      "banana: 2\n",
      "orange: 1\n"
     ]
    },
    {
     "data": {
      "text/plain": [
       "['apple', 'apple', 'apple', 'banana', 'banana', 'orange']"
      ]
     },
     "execution_count": 8,
     "metadata": {},
     "output_type": "execute_result"
    }
   ],
   "source": [
    "# Counter\n",
    "# - The Counter class is used to count the frequency of elements in an iterable.\n",
    "# - The elements are stored as dictionary keys and their counts are stored as dictionary values.\n",
    "# - The Counter class is a subclass of the Python dictionary class.\n",
    "# - The Counter class is present in the collections module.\n",
    "\n",
    "from collections import Counter\n",
    "\n",
    "# Create a Counter object\n",
    "c = Counter([\"apple\", \"banana\", \"apple\", \"orange\", \"banana\", \"apple\"])\n",
    "\n",
    "# Access the count of elements\n",
    "print(c[\"apple\"])  # Output: 3\n",
    "print(c[\"banana\"])  # Output: 2\n",
    "print(c[\"orange\"])  # Output: 1\n",
    "\n",
    "# Access all elements and their counts\n",
    "print(c.items())  # Output: dict_items([('apple', 3), ('banana', 2), ('orange', 1)])\n",
    "\n",
    "# Iterate over elements and their counts\n",
    "for element, count in c.items():\n",
    "    print(f\"{element}: {count}\")\n",
    "\n",
    "# Output:\n",
    "# apple: 3\n",
    "# banana: 2\n",
    "# orange: 1\n",
    "list(c.elements())"
   ]
  },
  {
   "cell_type": "code",
   "execution_count": 90,
   "metadata": {},
   "outputs": [
    {
     "name": "stdout",
     "output_type": "stream",
     "text": [
      "OrderedDict({'apple': 3, 'banana': 2, 'orange': 1})\n",
      "3\n",
      "2\n",
      "1\n",
      "apple: 3\n",
      "banana: 2\n",
      "orange: 1\n"
     ]
    }
   ],
   "source": [
    "# OrderedDict\n",
    "# - An OrderedDict is a dictionary subclass that remembers the order in which the keys were inserted.\n",
    "\n",
    "from collections import OrderedDict\n",
    "\n",
    "# Create an ordered dictionary\n",
    "od = OrderedDict()\n",
    "\n",
    "# Add key-value pairs to the ordered dictionary\n",
    "od[\"apple\"] = 3\n",
    "od[\"banana\"] = 2\n",
    "od[\"orange\"] = 1\n",
    "\n",
    "# Print the ordered dictionary\n",
    "print(od)  # Output: OrderedDict([('apple', 3), ('banana', 2), ('orange', 1)])\n",
    "\n",
    "# Accessing values using keys\n",
    "print(od[\"apple\"])  # Output: 3\n",
    "print(od[\"banana\"])  # Output: 2\n",
    "print(od[\"orange\"])  # Output: 1\n",
    "\n",
    "# Iterate over key-value pairs in the ordered dictionary\n",
    "for key, value in od.items():\n",
    "    print(f\"{key}: {value}\")\n",
    "\n",
    "# Output:\n",
    "# apple: 3\n",
    "# banana: 2\n",
    "# orange: 1"
   ]
  },
  {
   "cell_type": "code",
   "execution_count": 91,
   "metadata": {},
   "outputs": [
    {
     "name": "stdout",
     "output_type": "stream",
     "text": [
      "1: 3\n",
      "2: 3\n",
      "3: 3\n",
      "4: 2\n",
      "5: 1\n"
     ]
    }
   ],
   "source": [
    "# defaultdict\n",
    "# - A defaultdict is a dictionary subclass that provides a default value for a key that does not exist.\n",
    "# - When a defaultdict is created, you provide a function that returns the default value for a key.\n",
    "# - The function is called with no arguments and it returns the default value for the key.\n",
    "from collections import defaultdict\n",
    "\n",
    "# Create a defaultdict with a default value of 0\n",
    "count_dict = defaultdict(int)\n",
    "\n",
    "# Increment the count for each element in a list\n",
    "elements = [1, 2, 3, 2, 1, 3, 4, 5, 4, 3, 2, 1]\n",
    "for element in elements:\n",
    "    count_dict[element] += 1\n",
    "\n",
    "# Print the count of each element\n",
    "for element, count in count_dict.items():\n",
    "    print(f\"{element}: {count}\")"
   ]
  },
  {
   "cell_type": "code",
   "execution_count": 92,
   "metadata": {},
   "outputs": [
    {
     "name": "stdout",
     "output_type": "stream",
     "text": [
      "1: 3\n",
      "2: 3\n",
      "3: 3\n",
      "4: 2\n",
      "5: 1\n"
     ]
    }
   ],
   "source": [
    "# without defaultdict\n",
    "count_dict = {}\n",
    "\n",
    "# Increment the count for each element in a list\n",
    "elements = [1, 2, 3, 2, 1, 3, 4, 5, 4, 3, 2, 1]\n",
    "for element in elements:\n",
    "    if element in count_dict:\n",
    "        count_dict[element] += 1\n",
    "    else:\n",
    "        count_dict[element] = 1\n",
    "\n",
    "# Print the count of each element\n",
    "for element, count in count_dict.items():\n",
    "    print(f\"{element}: {count}\")"
   ]
  },
  {
   "cell_type": "code",
   "execution_count": null,
   "metadata": {},
   "outputs": [],
   "source": [
    "# named tuple\n",
    "# - A named tuple is a tuple subclass that allows you to access the elements using names as well as indices.\n",
    "# - A named tuple is a lightweight alternative to defining a class manually.\n",
    "# - A named tuple is immutable, like a tuple.\n",
    "\n",
    "from collections import namedtuple\n",
    "\n",
    "# Define a named tuple for a Point\n",
    "Point = namedtuple(\"Point\", [\"x\", \"y\"])\n",
    "\n",
    "# Create a point object\n",
    "p1 = Point(3, 4)\n",
    "\n",
    "# Access the elements using names\n",
    "print(p1.x)  # Output: 3\n",
    "print(p1.y)  # Output: 4\n",
    "\n",
    "# Access the elements using indices\n",
    "print(p1[0])  # Output: 3\n",
    "print(p1[1])  # Output: 4\n",
    "\n",
    "# Unpack the named tuple\n",
    "x, y = p1\n",
    "print(x, y)  # Output: 3 4\n",
    "\n",
    "# Named tuples are immutable\n",
    "# p1.x = 5  # This will raise an AttributeError\n",
    "\n",
    "# Named tuples can be used as dictionary keys\n",
    "point_dict = {p1: \"Origin\"}\n",
    "print(point_dict[p1])  # Output: Origin"
   ]
  },
  {
   "cell_type": "markdown",
   "metadata": {},
   "source": [
    "#### Arrays\n"
   ]
  },
  {
   "cell_type": "code",
   "execution_count": 1,
   "metadata": {},
   "outputs": [],
   "source": [
    "from array import array"
   ]
  }
 ],
 "metadata": {
  "kernelspec": {
   "display_name": ".venv",
   "language": "python",
   "name": "python3"
  },
  "language_info": {
   "codemirror_mode": {
    "name": "ipython",
    "version": 3
   },
   "file_extension": ".py",
   "mimetype": "text/x-python",
   "name": "python",
   "nbconvert_exporter": "python",
   "pygments_lexer": "ipython3",
   "version": "3.12.3"
  }
 },
 "nbformat": 4,
 "nbformat_minor": 2
}
