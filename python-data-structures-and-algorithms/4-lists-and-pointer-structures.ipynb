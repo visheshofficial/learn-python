{
 "cells": [
  {
   "cell_type": "markdown",
   "metadata": {},
   "source": [
    "# Lists and Pointer Structures\n"
   ]
  },
  {
   "cell_type": "markdown",
   "metadata": {},
   "source": [
    "Content:\n",
    "\n",
    "- Lists\n",
    "- Arrays\n",
    "- Nodes using pointers\n"
   ]
  },
  {
   "cell_type": "code",
   "execution_count": 3,
   "metadata": {},
   "outputs": [],
   "source": [
    "# Pointers\n",
    "\n",
    "# - Pointers are a way to store the memory address of another variable.\n",
    "# - in python, we don't have pointers, but we have references."
   ]
  },
  {
   "cell_type": "code",
   "execution_count": 4,
   "metadata": {},
   "outputs": [],
   "source": [
    "# Arrays\n",
    "# require sequential memory allocation\n",
    "# faster access to elements"
   ]
  },
  {
   "cell_type": "code",
   "execution_count": 5,
   "metadata": {},
   "outputs": [],
   "source": [
    "# Pointer structures\n",
    "# do not required a sequential memory allocation\n",
    "# can be resized"
   ]
  },
  {
   "cell_type": "code",
   "execution_count": 6,
   "metadata": {},
   "outputs": [],
   "source": [
    "# Nodes\n",
    "# node is a structure that contains a data and a pointer to the next node\n",
    "# simple node is two fields: reference to the data and reference to the next node\n",
    "# last node points to None\n",
    "# previious of the first node points to None"
   ]
  },
  {
   "cell_type": "code",
   "execution_count": 6,
   "metadata": {},
   "outputs": [],
   "source": [
    "# Simple node\n",
    "class Node:\n",
    "    def __init__(self, data=None):\n",
    "        self.data = data\n",
    "        self.next = None\n",
    "\n",
    "    def __str__(self):\n",
    "        return str(self.data)"
   ]
  },
  {
   "cell_type": "code",
   "execution_count": 7,
   "metadata": {},
   "outputs": [
    {
     "name": "stdout",
     "output_type": "stream",
     "text": [
      "eggs\n",
      "ham\n",
      "spam\n"
     ]
    }
   ],
   "source": [
    "# Singly linked list\n",
    "# singly linked list is a collection of nodes where each node contains a data and a reference to the next node\n",
    "\n",
    "n1 = Node(\"eggs\")\n",
    "n2 = Node(\"ham\")\n",
    "n3 = Node(\"spam\")\n",
    "n1.next = n2\n",
    "n2.next = n3\n",
    "\n",
    "current = n1\n",
    "while current:\n",
    "    print(current)\n",
    "    current = current.next"
   ]
  },
  {
   "cell_type": "code",
   "execution_count": 80,
   "metadata": {},
   "outputs": [
    {
     "name": "stdout",
     "output_type": "stream",
     "text": [
      "first->second->third->fourth\n"
     ]
    }
   ],
   "source": [
    "class SinglyLinkedList:\n",
    "    def __init__(self):\n",
    "        self.head = None\n",
    "        self.tail = Node\n",
    "        self.count = 0\n",
    "\n",
    "    def append(self, data):\n",
    "        node = Node(data)\n",
    "        if not self.head:\n",
    "            self.head = node\n",
    "            self.tail = node\n",
    "        else:\n",
    "            self.tail.next = node\n",
    "            self.tail = node\n",
    "        self.count += 1\n",
    "\n",
    "        # node = Node(data)\n",
    "        # if not self.head:\n",
    "        #     self.head = node\n",
    "        #     self.tail = node\n",
    "        #     return\n",
    "        # current = self.head\n",
    "        # while current.next:\n",
    "        #     current = current.next\n",
    "        # current.next = node\n",
    "\n",
    "    def __str__(self):\n",
    "        current = self.head\n",
    "        nodes = []\n",
    "        while current:\n",
    "            nodes.append(str(current))\n",
    "            current = current.next\n",
    "\n",
    "        return \"->\".join(nodes)\n",
    "\n",
    "    def size(self):\n",
    "        return self.count\n",
    "\n",
    "    def iter(self):\n",
    "        current = self.head\n",
    "        while current:\n",
    "            val = current.data\n",
    "            current = current.next\n",
    "            yield val\n",
    "\n",
    "    def delete(self, data):\n",
    "        current = self.head\n",
    "        previous = self.head\n",
    "        while current:\n",
    "            if current.data == data:\n",
    "                # if self.head == self.tail:\n",
    "                #     self.head = None\n",
    "                #     self.tail = None\n",
    "                #     self.count = 0\n",
    "                #     return True\n",
    "                if current == self.head:\n",
    "                    self.head = current.next\n",
    "                if current == self.tail:\n",
    "                    self.tail = previous\n",
    "                previous = current\n",
    "                self.count -= 1\n",
    "                return True\n",
    "            else:\n",
    "                previous = current\n",
    "                current = current.next\n",
    "        return False\n",
    "\n",
    "    def search(self, data):\n",
    "        current = self.head\n",
    "        while current:\n",
    "            if current.data == data:\n",
    "                return True\n",
    "        return False\n",
    "\n",
    "    def clear(self):\n",
    "        self.head = None\n",
    "        self.tail = None\n",
    "        self.count = 0\n",
    "\n",
    "\n",
    "words = SinglyLinkedList()\n",
    "words.append(\"first\")\n",
    "words.append(\"second\")\n",
    "\n",
    "words.append(\"third\")\n",
    "words.append(\"fourth\")\n",
    "print(words)"
   ]
  },
  {
   "cell_type": "code",
   "execution_count": 84,
   "metadata": {},
   "outputs": [
    {
     "name": "stdout",
     "output_type": "stream",
     "text": [
      "first->third->fourth\n",
      "first\n",
      "fourth\n"
     ]
    },
    {
     "ename": "AttributeError",
     "evalue": "'NoneType' object has no attribute 'next'",
     "output_type": "error",
     "traceback": [
      "\u001b[0;31m---------------------------------------------------------------------------\u001b[0m",
      "\u001b[0;31mAttributeError\u001b[0m                            Traceback (most recent call last)",
      "Cell \u001b[0;32mIn[84], line 5\u001b[0m\n\u001b[1;32m      3\u001b[0m \u001b[38;5;28mprint\u001b[39m(words\u001b[38;5;241m.\u001b[39mhead)\n\u001b[1;32m      4\u001b[0m \u001b[38;5;28mprint\u001b[39m(words\u001b[38;5;241m.\u001b[39mtail)\n\u001b[0;32m----> 5\u001b[0m \u001b[43mwords\u001b[49m\u001b[38;5;241;43m.\u001b[39;49m\u001b[43mdelete\u001b[49m\u001b[43m(\u001b[49m\u001b[38;5;124;43m\"\u001b[39;49m\u001b[38;5;124;43mfirst\u001b[39;49m\u001b[38;5;124;43m\"\u001b[39;49m\u001b[43m)\u001b[49m\n\u001b[1;32m      6\u001b[0m \u001b[38;5;28mprint\u001b[39m(words)\n\u001b[1;32m      7\u001b[0m \u001b[38;5;28mprint\u001b[39m(words\u001b[38;5;241m.\u001b[39mhead)\n",
      "Cell \u001b[0;32mIn[80], line 60\u001b[0m, in \u001b[0;36mSinglyLinkedList.delete\u001b[0;34m(self, data)\u001b[0m\n\u001b[1;32m     58\u001b[0m \u001b[38;5;28;01mif\u001b[39;00m current \u001b[38;5;241m==\u001b[39m \u001b[38;5;28mself\u001b[39m\u001b[38;5;241m.\u001b[39mtail:\n\u001b[1;32m     59\u001b[0m     \u001b[38;5;28mself\u001b[39m\u001b[38;5;241m.\u001b[39mtail \u001b[38;5;241m=\u001b[39m previous\n\u001b[0;32m---> 60\u001b[0m \u001b[43mprevious\u001b[49m\u001b[38;5;241;43m.\u001b[39;49m\u001b[43mnext\u001b[49m \u001b[38;5;241m=\u001b[39m current\u001b[38;5;241m.\u001b[39mnext\n\u001b[1;32m     61\u001b[0m \u001b[38;5;28mself\u001b[39m\u001b[38;5;241m.\u001b[39mcount \u001b[38;5;241m-\u001b[39m\u001b[38;5;241m=\u001b[39m \u001b[38;5;241m1\u001b[39m\n\u001b[1;32m     62\u001b[0m \u001b[38;5;28;01mreturn\u001b[39;00m \u001b[38;5;28;01mTrue\u001b[39;00m\n",
      "\u001b[0;31mAttributeError\u001b[0m: 'NoneType' object has no attribute 'next'"
     ]
    }
   ],
   "source": [
    "words.delete(\"second\")\n",
    "print(words)\n",
    "print(words.head)\n",
    "print(words.tail)\n",
    "words.delete(\"first\")\n",
    "print(words)\n",
    "print(words.head)\n",
    "print(words.tail)"
   ]
  },
  {
   "cell_type": "code",
   "execution_count": 67,
   "metadata": {},
   "outputs": [
    {
     "name": "stdout",
     "output_type": "stream",
     "text": [
      "first\n",
      "fourth\n"
     ]
    }
   ],
   "source": []
  }
 ],
 "metadata": {
  "kernelspec": {
   "display_name": ".venv",
   "language": "python",
   "name": "python3"
  },
  "language_info": {
   "codemirror_mode": {
    "name": "ipython",
    "version": 3
   },
   "file_extension": ".py",
   "mimetype": "text/x-python",
   "name": "python",
   "nbconvert_exporter": "python",
   "pygments_lexer": "ipython3",
   "version": "3.12.3"
  }
 },
 "nbformat": 4,
 "nbformat_minor": 2
}
